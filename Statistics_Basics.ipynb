{
  "nbformat": 4,
  "nbformat_minor": 0,
  "metadata": {
    "colab": {
      "provenance": []
    },
    "kernelspec": {
      "name": "python3",
      "display_name": "Python 3"
    },
    "language_info": {
      "name": "python"
    }
  },
  "cells": [
    {
      "cell_type": "markdown",
      "source": [
        "# ***Statistics Basics***"
      ],
      "metadata": {
        "id": "hXCu_V9XkuR5"
      }
    },
    {
      "cell_type": "markdown",
      "source": [
        "Ques1. What is statistics, and why is it important?\n",
        "\n",
        "Ans. Statistics is the science of collecting, analyzing, interpreting, presenting, and organizing data.\n",
        "\n",
        "Importance: It helps in decision-making, identifying trends, validating hypotheses, and making predictions in fields like business, healthcare, politics, and science."
      ],
      "metadata": {
        "id": "jOFvXFOTku04"
      }
    },
    {
      "cell_type": "markdown",
      "source": [
        "Ques2. What are the two main types of statistics?\n",
        "\n",
        "Ans.\n",
        "* Descriptive Statistics: Summarizes or describes the main features of a dataset.\n",
        "* Inferential Statistics: Makes predictions or inferences about a population based on a sample."
      ],
      "metadata": {
        "id": "gP1lAFftk3BZ"
      }
    },
    {
      "cell_type": "markdown",
      "source": [
        "Ques3. What are descriptive statistics?\n",
        "\n",
        "Ans. Descriptive statistics involve methods for summarizing data using numbers (mean, median), charts, and tables to describe the basic features of the data."
      ],
      "metadata": {
        "id": "wniOts_JlCfg"
      }
    },
    {
      "cell_type": "markdown",
      "source": [
        "Ques4. What is inferential statistics?\n",
        "\n",
        "Ans. Inferential statistics use a random sample of data to make generalizations or predictions about a larger population. It includes hypothesis testing, confidence intervals, and regression analysis."
      ],
      "metadata": {
        "id": "6scyUfctlK50"
      }
    },
    {
      "cell_type": "markdown",
      "source": [
        "Ques5. What is sampling in statistics?\n",
        "\n",
        "Ans. Sampling is the process of selecting a subset (sample) from a larger population to draw conclusions about that population."
      ],
      "metadata": {
        "id": "dIpris0clSBC"
      }
    },
    {
      "cell_type": "markdown",
      "source": [
        "Ques6. What are the different types of sampling methods?\n",
        "\n",
        "Ans.\n",
        "\n",
        "* Random Sampling\n",
        "* Systematic Sampling\n",
        "* Stratified Sampling\n",
        "* Cluster Sampling\n",
        "* Convenience Sampling\n",
        "* Judgmental/Purposive Sampling\n",
        "* Snowball Sampling"
      ],
      "metadata": {
        "id": "0a3Okf8ClY15"
      }
    },
    {
      "cell_type": "markdown",
      "source": [
        "Ques7. What is the difference between random and non-random sampling?\n",
        "\n",
        "Ans.\n",
        "* Random Sampling: Every member has an equal chance of selection (e.g., lottery).\n",
        "* Non-Random Sampling: Selection is based on subjective judgment (e.g., convenience sampling)."
      ],
      "metadata": {
        "id": "bU5XkGQ3lovG"
      }
    },
    {
      "cell_type": "markdown",
      "source": [
        "Ques8. Define and give examples of qualitative and quantitative data.\n",
        "\n",
        "Ans.\n",
        "* Qualitative Data: Categorical data (e.g., color, gender, brand).\n",
        "* Quantitative Data: Numerical data (e.g., age, income, temperature)."
      ],
      "metadata": {
        "id": "KalGqGlvlzlO"
      }
    },
    {
      "cell_type": "markdown",
      "source": [
        "Ques9. What are the different types of data in statistics?\n",
        "\n",
        "Ans.\n",
        "* Categorical (Qualitative): Nominal, Ordinal\n",
        "* Numerical (Quantitative): Discrete, Continuous"
      ],
      "metadata": {
        "id": "KcN66_L0l85U"
      }
    },
    {
      "cell_type": "markdown",
      "source": [
        "Ques10. Explain nominal, ordinal, interval, and ratio levels of measurement.\n",
        "\n",
        "Ans.\n",
        "* Nominal: Categories with no order (e.g., colors).\n",
        "* Ordinal: Categories with a ranked order (e.g., satisfaction levels).\n",
        "* Interval: Numeric scales with equal intervals, no true zero (e.g., temperature in Celsius).\n",
        "* Ratio: Numeric scale with a true zero (e.g., weight, height)."
      ],
      "metadata": {
        "id": "56U4D1QJmIjt"
      }
    },
    {
      "cell_type": "markdown",
      "source": [
        "Ques11. What is the measure of central tendency?\n",
        "\n",
        "Ans. It describes the center or average of a dataset using mean, median, or mode."
      ],
      "metadata": {
        "id": "aFTcsHhfmSo6"
      }
    },
    {
      "cell_type": "markdown",
      "source": [
        "Ques12. Define mean, median, and mode.\n",
        "\n",
        "Ans.\n",
        "* Mean: Sum of values ÷ number of values.\n",
        "* Median: Middle value when data is ordered.\n",
        "* Mode: Most frequently occurring value."
      ],
      "metadata": {
        "id": "jWzf_83NmZ7y"
      }
    },
    {
      "cell_type": "markdown",
      "source": [
        "Ques13. What is the significance of the measure of central tendency?\n",
        "\n",
        "Ans. It provides a single value that summarizes a dataset and helps compare different datasets."
      ],
      "metadata": {
        "id": "VMOwvD4YmmIl"
      }
    },
    {
      "cell_type": "markdown",
      "source": [
        "Ques14. What is variance, and how is it calculated?\n",
        "\n",
        "Ans.Variance measures the average squared deviation from the mean:\n",
        "        variance="
      ],
      "metadata": {
        "id": "Nga-cVc6mxYO"
      }
    },
    {
      "cell_type": "markdown",
      "source": [
        "Ques15. What is standard deviation, and why is it important?\n",
        "\n",
        "Ans.Standard deviation is the square root of variance. It shows how spread out the data is from the mean. It’s crucial for understanding variability."
      ],
      "metadata": {
        "id": "djQkhEFCnQcN"
      }
    },
    {
      "cell_type": "markdown",
      "source": [
        "Ques16. Define and explain the term range in statistics.\n",
        "\n",
        "Ans.Range is the difference between the highest and lowest values in a dataset.\n",
        "\n",
        "Range=(Max − Min)"
      ],
      "metadata": {
        "id": "Whzlm60nnUTM"
      }
    },
    {
      "cell_type": "markdown",
      "source": [
        "Ques17. What is the difference between variance and standard deviation?\n",
        "\n",
        "Ans.\n",
        "* Variance: Average squared deviation.\n",
        "* Standard Deviation: Square root of variance; more interpretable in the original data units."
      ],
      "metadata": {
        "id": "ilF0czCvnm0P"
      }
    },
    {
      "cell_type": "markdown",
      "source": [
        "Ques18. What is skewness in a dataset?\n",
        "\n",
        "Ans.  Skewness measures the asymmetry of a dataset’s distribution:\n",
        "\n",
        "* Positive skew: Right tail is longer.\n",
        "* Negative skew: Left tail is longer."
      ],
      "metadata": {
        "id": "Nf2vSyEQnzH_"
      }
    },
    {
      "cell_type": "markdown",
      "source": [
        "Ques19. What does it mean if a dataset is positively or negatively skewed?\n",
        "\n",
        "Ans.\n",
        "* Positively Skewed: Mean > Median (e.g., income data).\n",
        "* Negatively Skewed: Mean < Median (e.g., test scores with high performers)."
      ],
      "metadata": {
        "id": "1hf-prcbpEak"
      }
    },
    {
      "cell_type": "markdown",
      "source": [
        "Ques20. Define and explain kurtosis.\n",
        "\n",
        "Ans. Kurtosis measures the \"tailedness\" of a distribution:\n",
        "\n",
        "* High kurtosis: More outliers (leptokurtic).\n",
        "* Low kurtosis: Fewer outliers (platykurtic).\n",
        "* Normal kurtosis: Mesokurtic (like the normal distribution).\n",
        "\n"
      ],
      "metadata": {
        "id": "zmw6u-mlpNAS"
      }
    },
    {
      "cell_type": "markdown",
      "source": [
        "Ques21. What is the purpose of covariance?\n",
        "\n",
        "Ans. Covariance measures how two variables change together:\n",
        "* Positive: Move in same direction.\n",
        "* Negative: Move in opposite directions."
      ],
      "metadata": {
        "id": "5QEMDgGXpdg_"
      }
    },
    {
      "cell_type": "markdown",
      "source": [
        "Ques22. What does correlation measure in statistics?\n",
        "\n",
        "Ans. Correlation quantifies the strength and direction of a linear relationship between two variables (range: -1 to 1)."
      ],
      "metadata": {
        "id": "EGAIwJFkproU"
      }
    },
    {
      "cell_type": "markdown",
      "source": [
        "Ques23. What is the difference between covariance and correlation?\n",
        "\n",
        "Ans.\n",
        "* Covariance: Unstandardized measure of joint variability.\n",
        "* Correlation: Standardized (unitless) measure; easier to interpret."
      ],
      "metadata": {
        "id": "xe8L8AAIpzLL"
      }
    },
    {
      "cell_type": "markdown",
      "source": [
        "Ques24. What are some real-world applications of statistics?\n",
        "\n",
        "Ans.\n",
        "* Healthcare: Drug effectiveness studies.\n",
        "* Business: Market analysis, customer behavior.\n",
        "* Government: Policy planning, census.\n",
        "* Sports: Player performance analysis.\n",
        "* Education: Test score evaluation and ranking."
      ],
      "metadata": {
        "id": "NQof8Sddp9mD"
      }
    },
    {
      "cell_type": "markdown",
      "source": [
        "  ***Practical***"
      ],
      "metadata": {
        "id": "HccMSJQTqeXd"
      }
    },
    {
      "cell_type": "markdown",
      "source": [
        "Ques1. How do you calculate the mean, median, and mode of a dataset?"
      ],
      "metadata": {
        "id": "aenUXFnyqq5X"
      }
    },
    {
      "cell_type": "code",
      "source": [
        "import statistics as stats\n",
        "\n",
        "data = [5, 10, 15, 10, 20]\n",
        "mean = stats.mean(data)\n",
        "median = stats.median(data)\n",
        "mode = stats.mode(data)\n",
        "\n",
        "print(\"Mean:\", mean)\n",
        "print(\"Median:\", median)\n",
        "print(\"Mode:\", mode)\n"
      ],
      "metadata": {
        "colab": {
          "base_uri": "https://localhost:8080/"
        },
        "id": "NHSQAwilqx8O",
        "outputId": "ef119510-d99a-4584-e403-ef19de3af90a"
      },
      "execution_count": 1,
      "outputs": [
        {
          "output_type": "stream",
          "name": "stdout",
          "text": [
            "Mean: 12\n",
            "Median: 10\n",
            "Mode: 10\n"
          ]
        }
      ]
    },
    {
      "cell_type": "markdown",
      "source": [
        "Ques2. Write a Python program to compute the variance and standard deviation of a dataset"
      ],
      "metadata": {
        "id": "nWvitlYeq8Au"
      }
    },
    {
      "cell_type": "code",
      "source": [
        "data = [5, 10, 15, 20, 25]\n",
        "\n",
        "variance = stats.variance(data)\n",
        "std_dev = stats.stdev(data)\n",
        "\n",
        "print(\"Variance:\", variance)\n",
        "print(\"Standard Deviation:\", std_dev)\n"
      ],
      "metadata": {
        "colab": {
          "base_uri": "https://localhost:8080/"
        },
        "id": "CjFMuYDVrCZu",
        "outputId": "4c2a78c6-d0cf-4859-936b-dae84c955fc7"
      },
      "execution_count": 2,
      "outputs": [
        {
          "output_type": "stream",
          "name": "stdout",
          "text": [
            "Variance: 62.5\n",
            "Standard Deviation: 7.905694150420948\n"
          ]
        }
      ]
    },
    {
      "cell_type": "markdown",
      "source": [
        "Ques3. Create a dataset and classify it into nominal, ordinal, interval, and ratio types"
      ],
      "metadata": {
        "id": "ly8l_9U8rHjL"
      }
    },
    {
      "cell_type": "code",
      "source": [
        "dataset = {\n",
        "    'Nominal': ['Red', 'Blue', 'Green'],\n",
        "    'Ordinal': ['Low', 'Medium', 'High'],\n",
        "    'Interval': [10, 20, 30],\n",
        "    'Ratio': [5, 10, 15]\n",
        "}\n",
        "print(dataset)\n"
      ],
      "metadata": {
        "colab": {
          "base_uri": "https://localhost:8080/"
        },
        "id": "X_M2ydyjrM6I",
        "outputId": "07a0f924-2641-4d15-8128-6122bea7318d"
      },
      "execution_count": 4,
      "outputs": [
        {
          "output_type": "stream",
          "name": "stdout",
          "text": [
            "{'Nominal': ['Red', 'Blue', 'Green'], 'Ordinal': ['Low', 'Medium', 'High'], 'Interval': [10, 20, 30], 'Ratio': [5, 10, 15]}\n"
          ]
        }
      ]
    },
    {
      "cell_type": "markdown",
      "source": [
        "Ques4. Implement random and stratified sampling."
      ],
      "metadata": {
        "id": "Z02xDRQlrZYY"
      }
    },
    {
      "cell_type": "code",
      "source": [
        "import pandas as pd\n",
        "from sklearn.model_selection import train_test_split\n",
        "\n",
        "# Sample dataset\n",
        "df = pd.DataFrame({'Gender': ['M', 'F'] * 10, 'Score': range(20)})\n",
        "\n",
        "# Random sampling\n",
        "random_sample = df.sample(n=5)\n",
        "\n",
        "# Stratified sampling based on gender\n",
        "stratified_sample, _ = train_test_split(df, test_size=0.75, stratify=df['Gender'])\n",
        "\n",
        "print(\"Random Sample:\\n\", random_sample)\n",
        "print(\"Stratified Sample:\\n\", stratified_sample)\n"
      ],
      "metadata": {
        "colab": {
          "base_uri": "https://localhost:8080/"
        },
        "id": "L15B4A9lrexD",
        "outputId": "8be5d005-ac03-468a-c7f3-f370733bf93a"
      },
      "execution_count": 5,
      "outputs": [
        {
          "output_type": "stream",
          "name": "stdout",
          "text": [
            "Random Sample:\n",
            "    Gender  Score\n",
            "0       M      0\n",
            "5       F      5\n",
            "15      F     15\n",
            "4       M      4\n",
            "13      F     13\n",
            "Stratified Sample:\n",
            "    Gender  Score\n",
            "18      M     18\n",
            "2       M      2\n",
            "10      M     10\n",
            "3       F      3\n",
            "19      F     19\n"
          ]
        }
      ]
    },
    {
      "cell_type": "markdown",
      "source": [
        "Ques5. Python function to calculate the range of a dataset."
      ],
      "metadata": {
        "id": "5JX1HMagrmbo"
      }
    },
    {
      "cell_type": "code",
      "source": [
        "def data_range(data):\n",
        "    return max(data) - min(data)\n",
        "\n",
        "print(\"Range:\", data_range([5, 10, 15, 20]))\n"
      ],
      "metadata": {
        "colab": {
          "base_uri": "https://localhost:8080/"
        },
        "id": "dS4nEng4ruSG",
        "outputId": "0b94aa09-c280-4dc7-eafb-0e0ffe384af5"
      },
      "execution_count": 6,
      "outputs": [
        {
          "output_type": "stream",
          "name": "stdout",
          "text": [
            "Range: 15\n"
          ]
        }
      ]
    },
    {
      "cell_type": "markdown",
      "source": [
        "Ques6. Create a dataset and plot its histogram to visualize skewness."
      ],
      "metadata": {
        "id": "fYY3BePdr2CX"
      }
    },
    {
      "cell_type": "code",
      "source": [
        "import matplotlib.pyplot as plt\n",
        "import numpy as np\n",
        "\n",
        "data = np.random.exponential(scale=2, size=1000)\n",
        "plt.hist(data, bins=30)\n",
        "plt.title(\"Histogram - Skewness\")\n",
        "plt.show()\n"
      ],
      "metadata": {
        "colab": {
          "base_uri": "https://localhost:8080/",
          "height": 452
        },
        "id": "vJPUO2sVr7jI",
        "outputId": "3cbf531a-1398-42f7-aed9-9e8a2ed76779"
      },
      "execution_count": 7,
      "outputs": [
        {
          "output_type": "display_data",
          "data": {
            "text/plain": [
              "<Figure size 640x480 with 1 Axes>"
            ],
            "image/png": "[encoded data removed]"
          },
          "metadata": {}
        }
      ]
    },
    {
      "cell_type": "markdown",
      "source": [
        "Ques7. Calculate skewness and kurtosis using Python."
      ],
      "metadata": {
        "id": "y-B787nEsApE"
      }
    },
    {
      "cell_type": "code",
      "source": [
        "from scipy.stats import skew, kurtosis\n",
        "\n",
        "print(\"Skewness:\", skew(data))\n",
        "print(\"Kurtosis:\", kurtosis(data))\n"
      ],
      "metadata": {
        "colab": {
          "base_uri": "https://localhost:8080/"
        },
        "id": "OmM9HLyUsGwV",
        "outputId": "35cfc663-ce31-48e9-d948-1415a92691b6"
      },
      "execution_count": 8,
      "outputs": [
        {
          "output_type": "stream",
          "name": "stdout",
          "text": [
            "Skewness: 2.110468480783941\n",
            "Kurtosis: 6.10888569174111\n"
          ]
        }
      ]
    },
    {
      "cell_type": "markdown",
      "source": [
        "Ques8. Generate and demonstrate positive & negative skewness."
      ],
      "metadata": {
        "id": "8Z2KA7Z8sNJX"
      }
    },
    {
      "cell_type": "code",
      "source": [
        "positive_skew = np.random.exponential(size=1000)\n",
        "negative_skew = -np.random.exponential(size=1000)\n",
        "\n",
        "plt.hist(positive_skew, bins=30)\n",
        "plt.title(\"Positive Skew\")\n",
        "plt.show()\n",
        "\n",
        "plt.hist(negative_skew, bins=30)\n",
        "plt.title(\"Negative Skew\")\n",
        "plt.show()\n"
      ],
      "metadata": {
        "colab": {
          "base_uri": "https://localhost:8080/",
          "height": 887
        },
        "id": "R82ORIl3sVkp",
        "outputId": "0410e7a1-25f2-4373-f730-e1eb6ccde98f"
      },
      "execution_count": 9,
      "outputs": [
        {
          "output_type": "display_data",
          "data": {
            "text/plain": [
              "<Figure size 640x480 with 1 Axes>"
            ],
            "image/png": "[encoded data removed]"
          },
          "metadata": {}
        },
        {
          "output_type": "display_data",
          "data": {
            "text/plain": [
              "<Figure size 640x480 with 1 Axes>"
            ],
            "image/png": "[encoded data removed]"
          },
          "metadata": {}
        }
      ]
    },
    {
      "cell_type": "markdown",
      "source": [
        "Ques9. Python script to calculate covariance"
      ],
      "metadata": {
        "id": "AfH1VmTas_dD"
      }
    },
    {
      "cell_type": "code",
      "source": [
        "import numpy as np\n",
        "\n",
        "x = [1, 2, 3, 4, 5]\n",
        "y = [2, 4, 6, 8, 10]\n",
        "\n",
        "cov_matrix = np.cov(x, y)\n",
        "print(\"Covariance:\", cov_matrix[0, 1])\n"
      ],
      "metadata": {
        "colab": {
          "base_uri": "https://localhost:8080/"
        },
        "id": "tMZGST3htGWL",
        "outputId": "2d825ede-010a-4cca-a690-e12f36fbcb74"
      },
      "execution_count": 10,
      "outputs": [
        {
          "output_type": "stream",
          "name": "stdout",
          "text": [
            "Covariance: 5.0\n"
          ]
        }
      ]
    },
    {
      "cell_type": "markdown",
      "source": [
        "Ques10. Script to calculate the correlation coefficient."
      ],
      "metadata": {
        "id": "Rl7T-sFKtKYp"
      }
    },
    {
      "cell_type": "code",
      "source": [
        "correlation = np.corrcoef(x, y)\n",
        "print(\"Correlation Coefficient:\", correlation[0, 1])\n"
      ],
      "metadata": {
        "colab": {
          "base_uri": "https://localhost:8080/"
        },
        "id": "vJoIWTQTtSy3",
        "outputId": "5f87b6f5-2457-4b1a-ff66-302533268ebe"
      },
      "execution_count": 11,
      "outputs": [
        {
          "output_type": "stream",
          "name": "stdout",
          "text": [
            "Correlation Coefficient: 0.9999999999999999\n"
          ]
        }
      ]
    },
    {
      "cell_type": "markdown",
      "source": [
        "Ques11. Create a scatter plot to visualize relationships."
      ],
      "metadata": {
        "id": "R0hrQfFotfo-"
      }
    },
    {
      "cell_type": "code",
      "source": [
        "plt.scatter(x, y)\n",
        "plt.title(\"Scatter Plot\")\n",
        "plt.xlabel(\"X values\")\n",
        "plt.ylabel(\"Y values\")\n",
        "plt.show()\n"
      ],
      "metadata": {
        "colab": {
          "base_uri": "https://localhost:8080/",
          "height": 472
        },
        "id": "MMKc-uNrtmSQ",
        "outputId": "a3086c64-9299-4ea5-eccf-429f190a9f21"
      },
      "execution_count": 12,
      "outputs": [
        {
          "output_type": "display_data",
          "data": {
            "text/plain": [
              "<Figure size 640x480 with 1 Axes>"
            ],
            "image/png": "[encoded data removed]"
          },
          "metadata": {}
        }
      ]
    },
    {
      "cell_type": "markdown",
      "source": [
        "Ques12. Compare simple random and systematic sampling."
      ],
      "metadata": {
        "id": "b-uKDCBotqt4"
      }
    },
    {
      "cell_type": "code",
      "source": [
        "import random\n",
        "\n",
        "data = list(range(1, 101))\n",
        "\n",
        "# Simple Random Sampling\n",
        "random_sample = random.sample(data, 10)\n",
        "\n",
        "# Systematic Sampling\n",
        "k = 10\n",
        "start = random.randint(0, k-1)\n",
        "systematic_sample = [data[i] for i in range(start, len(data), k)]\n",
        "\n",
        "print(\"Simple Random:\", random_sample)\n",
        "print(\"Systematic:\", systematic_sample)\n"
      ],
      "metadata": {
        "colab": {
          "base_uri": "https://localhost:8080/"
        },
        "id": "iKFWgHjktxB5",
        "outputId": "ec8dd603-ee40-4df4-b49c-a019fd256cff"
      },
      "execution_count": 13,
      "outputs": [
        {
          "output_type": "stream",
          "name": "stdout",
          "text": [
            "Simple Random: [80, 51, 63, 23, 7, 33, 67, 61, 19, 10]\n",
            "Systematic: [2, 12, 22, 32, 42, 52, 62, 72, 82, 92]\n"
          ]
        }
      ]
    },
    {
      "cell_type": "markdown",
      "source": [
        "Ques13. Calculate mean, median, and mode of grouped data"
      ],
      "metadata": {
        "id": "Nc_PkQWTt10q"
      }
    },
    {
      "cell_type": "code",
      "source": [
        "import pandas as pd\n",
        "\n",
        "data = pd.DataFrame({'Class': ['0-10', '10-20', '20-30'], 'Frequency': [5, 10, 5]})\n",
        "midpoints = [5, 15, 25]\n",
        "frequencies = data['Frequency']\n",
        "mean = sum([m * f for m, f in zip(midpoints, frequencies)]) / sum(frequencies)\n",
        "print(\"Grouped Mean:\", mean)\n"
      ],
      "metadata": {
        "colab": {
          "base_uri": "https://localhost:8080/"
        },
        "id": "VvOyKq-Dt79d",
        "outputId": "eff56a61-a6b7-431a-d75e-e43145bab9ac"
      },
      "execution_count": 14,
      "outputs": [
        {
          "output_type": "stream",
          "name": "stdout",
          "text": [
            "Grouped Mean: 15.0\n"
          ]
        }
      ]
    },
    {
      "cell_type": "markdown",
      "source": [
        "Ques14. Simulate data & compute central tendency and dispersion."
      ],
      "metadata": {
        "id": "KjLc22CXuAQ0"
      }
    },
    {
      "cell_type": "code",
      "source": [
        "data = np.random.normal(loc=50, scale=10, size=1000)\n",
        "\n",
        "print(\"Mean:\", np.mean(data))\n",
        "print(\"Median:\", np.median(data))\n",
        "print(\"Std Dev:\", np.std(data))\n"
      ],
      "metadata": {
        "colab": {
          "base_uri": "https://localhost:8080/"
        },
        "id": "AsdqSRq-uFa8",
        "outputId": "0a622d53-0548-4703-e123-11e6f55d3c5e"
      },
      "execution_count": 15,
      "outputs": [
        {
          "output_type": "stream",
          "name": "stdout",
          "text": [
            "Mean: 49.62859799979877\n",
            "Median: 49.19980236093808\n",
            "Std Dev: 10.1121488456623\n"
          ]
        }
      ]
    },
    {
      "cell_type": "markdown",
      "source": [
        "Ques15. Use NumPy or pandas to summarize descriptive statistics."
      ],
      "metadata": {
        "id": "tXpFCJM7uJuS"
      }
    },
    {
      "cell_type": "code",
      "source": [
        "df = pd.DataFrame({'Values': data})\n",
        "print(df.describe())\n"
      ],
      "metadata": {
        "colab": {
          "base_uri": "https://localhost:8080/"
        },
        "id": "Ag8t7VSouSmQ",
        "outputId": "c4512a1e-950d-4261-b9eb-f85a5d36c095"
      },
      "execution_count": 16,
      "outputs": [
        {
          "output_type": "stream",
          "name": "stdout",
          "text": [
            "            Values\n",
            "count  1000.000000\n",
            "mean     49.628598\n",
            "std      10.117209\n",
            "min      15.348853\n",
            "25%      42.789524\n",
            "50%      49.199802\n",
            "75%      56.570353\n",
            "max      82.466301\n"
          ]
        }
      ]
    },
    {
      "cell_type": "markdown",
      "source": [
        "Ques16. Plot a boxplot to understand spread and outliers."
      ],
      "metadata": {
        "id": "s-UysKaIuWcr"
      }
    },
    {
      "cell_type": "code",
      "source": [
        "plt.boxplot(data)\n",
        "plt.title(\"Boxplot\")\n",
        "plt.show()\n"
      ],
      "metadata": {
        "colab": {
          "base_uri": "https://localhost:8080/",
          "height": 452
        },
        "id": "iJ_nN9_uudeO",
        "outputId": "c4469859-b495-4373-eb15-a43ef1da0e1e"
      },
      "execution_count": 17,
      "outputs": [
        {
          "output_type": "display_data",
          "data": {
            "text/plain": [
              "<Figure size 640x480 with 1 Axes>"
            ],
            "image/png": "[encoded data removed]"
          },
          "metadata": {}
        }
      ]
    },
    {
      "cell_type": "markdown",
      "source": [
        "Ques17. Calculate Interquartile Range (IQR)."
      ],
      "metadata": {
        "id": "jsCW0ycwuguZ"
      }
    },
    {
      "cell_type": "code",
      "source": [
        "Q1 = np.percentile(data, 25)\n",
        "Q3 = np.percentile(data, 75)\n",
        "IQR = Q3 - Q1\n",
        "print(\"IQR:\", IQR)\n"
      ],
      "metadata": {
        "colab": {
          "base_uri": "https://localhost:8080/"
        },
        "id": "JcMXtRR1um4u",
        "outputId": "43aac064-451d-4453-9dc2-c65b4c543675"
      },
      "execution_count": 18,
      "outputs": [
        {
          "output_type": "stream",
          "name": "stdout",
          "text": [
            "IQR: 13.780829553288818\n"
          ]
        }
      ]
    },
    {
      "cell_type": "markdown",
      "source": [
        "Ques18. Implement Z-score normalization and its significance."
      ],
      "metadata": {
        "id": "-NP7xTZNuuhw"
      }
    },
    {
      "cell_type": "code",
      "source": [
        "z_scores = (data - np.mean(data)) / np.std(data)\n",
        "print(\"Z-Scores:\", z_scores[:5])\n"
      ],
      "metadata": {
        "colab": {
          "base_uri": "https://localhost:8080/"
        },
        "id": "vhpZeo04u0M5",
        "outputId": "9570315a-b9e8-4a69-ea39-12f72c5ad1a3"
      },
      "execution_count": 19,
      "outputs": [
        {
          "output_type": "stream",
          "name": "stdout",
          "text": [
            "Z-Scores: [-0.21877559  0.37666904 -0.33858034  0.12906098  0.303207  ]\n"
          ]
        }
      ]
    },
    {
      "cell_type": "markdown",
      "source": [
        "Ques19. Compare datasets using standard deviations."
      ],
      "metadata": {
        "id": "_GqjLNFNvXAR"
      }
    },
    {
      "cell_type": "code",
      "source": [
        "data1 = np.random.normal(0, 5, 1000)\n",
        "data2 = np.random.normal(0, 15, 1000)\n",
        "\n",
        "print(\"SD Data1:\", np.std(data1))\n",
        "print(\"SD Data2:\", np.std(data2))\n"
      ],
      "metadata": {
        "colab": {
          "base_uri": "https://localhost:8080/"
        },
        "id": "t_FP4txBve7g",
        "outputId": "0778cd67-4cb5-4e14-e9c7-e6f9b4b66da0"
      },
      "execution_count": 21,
      "outputs": [
        {
          "output_type": "stream",
          "name": "stdout",
          "text": [
            "SD Data1: 4.96977727545894\n",
            "SD Data2: 15.20511756711881\n"
          ]
        }
      ]
    },
    {
      "cell_type": "markdown",
      "source": [
        "Ques20. Visualize covariance using a heatmap"
      ],
      "metadata": {
        "id": "KdHUU36PvlAR"
      }
    },
    {
      "cell_type": "code",
      "source": [
        "import seaborn as sns\n",
        "\n",
        "df = pd.DataFrame({'x': x, 'y': y})\n",
        "sns.heatmap(df.cov(), annot=True, cmap='coolwarm')\n",
        "plt.title(\"Covariance Heatmap\")\n",
        "plt.show()\n"
      ],
      "metadata": {
        "colab": {
          "base_uri": "https://localhost:8080/",
          "height": 452
        },
        "id": "2XmA9jvFvqAd",
        "outputId": "477027ba-1ee9-40bd-a419-de4bb3e9bf65"
      },
      "execution_count": 22,
      "outputs": [
        {
          "output_type": "display_data",
          "data": {
            "text/plain": [
              "<Figure size 640x480 with 2 Axes>"
            ],
            "image/png": "[encoded data removed]"
          },
          "metadata": {}
        }
      ]
    },
    {
      "cell_type": "markdown",
      "source": [
        "Ques21. Create a correlation matrix using seaborn."
      ],
      "metadata": {
        "id": "TfJvgNBsvuV2"
      }
    },
    {
      "cell_type": "code",
      "source": [
        "sns.heatmap(df.corr(), annot=True, cmap='coolwarm')\n",
        "plt.title(\"Correlation Matrix\")\n",
        "plt.show()\n"
      ],
      "metadata": {
        "colab": {
          "base_uri": "https://localhost:8080/",
          "height": 452
        },
        "id": "g9mdi3IYv1Qo",
        "outputId": "8d6e321e-4872-45d5-f4c4-92e0847dfaf3"
      },
      "execution_count": 24,
      "outputs": [
        {
          "output_type": "display_data",
          "data": {
            "text/plain": [
              "<Figure size 640x480 with 2 Axes>"
            ],
            "image/png": "[encoded data removed]"
          },
          "metadata": {}
        }
      ]
    },
    {
      "cell_type": "markdown",
      "source": [
        "Ques22. Generate dataset and implement variance and std. dev."
      ],
      "metadata": {
        "id": "WkSU0IV6wRIu"
      }
    },
    {
      "cell_type": "code",
      "source": [
        "data = np.random.normal(100, 15, 1000)\n",
        "print(\"Variance:\", np.var(data))\n",
        "print(\"Standard Deviation:\", np.std(data))\n"
      ],
      "metadata": {
        "colab": {
          "base_uri": "https://localhost:8080/"
        },
        "id": "XLBaIBEOwUIu",
        "outputId": "2e53e813-2fc7-46f6-88e8-367f9fa4f22a"
      },
      "execution_count": 25,
      "outputs": [
        {
          "output_type": "stream",
          "name": "stdout",
          "text": [
            "Variance: 221.21248633958288\n",
            "Standard Deviation: 14.873213719286861\n"
          ]
        }
      ]
    },
    {
      "cell_type": "markdown",
      "source": [
        "Ques23. Visualize skewness and kurtosis with matplotlib/seaborn."
      ],
      "metadata": {
        "id": "ClUW1iqwwXa2"
      }
    },
    {
      "cell_type": "code",
      "source": [
        "import seaborn as sns\n",
        "\n",
        "sns.histplot(data, kde=True)\n",
        "plt.title(\"Distribution with Skewness & Kurtosis\")\n",
        "plt.show()\n"
      ],
      "metadata": {
        "colab": {
          "base_uri": "https://localhost:8080/",
          "height": 452
        },
        "id": "hDH4rEPmwc_2",
        "outputId": "153f107a-424f-409b-9c7f-31006720df82"
      },
      "execution_count": 26,
      "outputs": [
        {
          "output_type": "display_data",
          "data": {
            "text/plain": [
              "<Figure size 640x480 with 1 Axes>"
            ],
            "image/png": "[encoded data removed]"
          },
          "metadata": {}
        }
      ]
    },
    {
      "cell_type": "markdown",
      "source": [
        "Ques24. Implement Pearson and Spearman correlation."
      ],
      "metadata": {
        "id": "Cq0USzb-wifQ"
      }
    },
    {
      "cell_type": "code",
      "source": [
        "from scipy.stats import pearsonr, spearmanr\n",
        "\n",
        "pearson_corr, _ = pearsonr(x, y)\n",
        "spearman_corr, _ = spearmanr(x, y)\n",
        "\n",
        "print(\"Pearson:\", pearson_corr)\n",
        "print(\"Spearman:\", spearman_corr)\n"
      ],
      "metadata": {
        "colab": {
          "base_uri": "https://localhost:8080/"
        },
        "id": "ED4DPglIwrK6",
        "outputId": "3e76aa96-13c3-4c83-eae2-7f000d4065df"
      },
      "execution_count": 27,
      "outputs": [
        {
          "output_type": "stream",
          "name": "stdout",
          "text": [
            "Pearson: 1.0\n",
            "Spearman: 0.9999999999999999\n"
          ]
        }
      ]
    }
  ]
}