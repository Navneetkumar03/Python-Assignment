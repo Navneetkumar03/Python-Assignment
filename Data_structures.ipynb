{
  "cells": [
    {
      "cell_type": "markdown",
      "metadata": {
        "id": "wJGIEUV9Vb1w"
      },
      "source": [
        "Ques1. What are data structures, and why are they important.\n",
        "\n",
        "Ans. Data structures are ways of organizing and storing data in a computer so that it can be accessed and modified efficiently. They're important because they allow for optimized performance in terms of memory use, speed, and scalability.\n"
      ]
    },
    {
      "cell_type": "markdown",
      "metadata": {
        "id": "wjSwxJv3V19H"
      },
      "source": [
        "Ques2: Explain the difference between mutable and immutable data types with examples.\n",
        "\n",
        "Ans. Mutable: Can be changed after creation (e.g., list, dict, set).\n",
        "\n",
        "  Immutable: Cannot be changed after creation (e.g., int, float, tuple, str)."
      ]
    },
    {
      "cell_type": "code",
      "execution_count": null,
      "metadata": {
        "colab": {
          "base_uri": "https://localhost:8080/"
        },
        "id": "RD6jVcQbWLzI",
        "outputId": "e320bfc5-9810-4404-e3ad-8a042f8649b3"
      },
      "outputs": [
        {
          "name": "stdout",
          "output_type": "stream",
          "text": [
            "[1, 2, 3, 4]\n"
          ]
        }
      ],
      "source": [
        "mutable_list = [1, 2, 3]\n",
        "mutable_list.append(4)  # List changed\n",
        "print(mutable_list)\n",
        "\n",
        "q\n",
        "immutable_str = \"Hello\"\n",
        "# immutable_str[0] = \"h\"  # Error: strings are immutable\n"
      ]
    },
    {
      "cell_type": "markdown",
      "metadata": {
        "id": "jgBjYgQSWWAa"
      },
      "source": [
        "Ques3: What are the main differences between lists and tuples in Python?\n",
        "\n",
        "Ans. List: A list is a built-in data structure in Python that is used to store a collection of items. Lists are mutable. They are created using square brackets [ ], and can hold different data types such as integers, strings, or even other lists.\n",
        "\n",
        "Tuple: A tuple is another built-in data structure in Python used to store collections of items. Unlike lists, tuples are immutable, meaning that once a tuple is created, its elements cannot be changed, added to, or removed. Tuples are defined using parentheses (), and like lists, they can hold multiple data types. Due to their immutability, tuples are generally more memory-efficient and faster than lists, making them suitable for fixed data sets."
      ]
    },
    {
      "cell_type": "markdown",
      "metadata": {
        "id": "_54uZGLlYKT_"
      },
      "source": [
        "Ques4: Describe how dictionaries store data.\n",
        "\n",
        "Ans. Dictionaries store data in key-value pairs using a hash table. Keys must be unique and hashable."
      ]
    },
    {
      "cell_type": "code",
      "execution_count": null,
      "metadata": {
        "colab": {
          "background_save": true
        },
        "id": "q1kSQ-ksYStI",
        "outputId": "12850aaf-f2dd-4b4d-df98-bad892064f79"
      },
      "outputs": [
        {
          "name": "stdout",
          "output_type": "stream",
          "text": [
            "{'name': 'Alice', 'age': 20}\n"
          ]
        }
      ],
      "source": [
        "student = {\"name\": \"Alice\", \"age\": 20}\n"
      ]
    },
    {
      "cell_type": "markdown",
      "source": [
        "Ques5. Why might you use a set instead of a list in Python?\n",
        "\n",
        "Ans: we used set insted of list because:\n",
        "1. To eliminate duplicates\n",
        "2. For faster membership testing"
      ],
      "metadata": {
        "id": "2GzQqWLsdmJR"
      }
    },
    {
      "cell_type": "code",
      "source": [
        "s = set([1, 2, 2, 3])\n",
        "print(s)\n"
      ],
      "metadata": {
        "colab": {
          "base_uri": "https://localhost:8080/"
        },
        "id": "nmEJ57_HeGey",
        "outputId": "11a69f48-029d-4bee-eb89-8ee87abfec72"
      },
      "execution_count": null,
      "outputs": [
        {
          "output_type": "stream",
          "name": "stdout",
          "text": [
            "{1, 2, 3}\n"
          ]
        }
      ]
    },
    {
      "cell_type": "markdown",
      "source": [
        "Ques6. What is a string in Python, and how is it different from a list?\n",
        "\n",
        "Ans: A string is an immutable sequence of characters and Lists can hold any data type and are mutable while string are immutable."
      ],
      "metadata": {
        "id": "Jd0kydNIeMwk"
      }
    },
    {
      "cell_type": "markdown",
      "source": [
        "ques7. How do tuples ensure data integrity in Python?\n",
        "\n",
        "Ans: Tuples are immutable, so the data can’t be changed accidentally. This makes them suitable for constant data."
      ],
      "metadata": {
        "id": "z_A4a63Ee9Fj"
      }
    },
    {
      "cell_type": "markdown",
      "source": [
        "Ques8. What is a hash table, and how does it relate to dictionaries in Python?\n",
        "\n",
        "Ans: A hash table maps keys to values using a hash function. Python dictionaries are implemented using hash tables."
      ],
      "metadata": {
        "id": "RWDp2BopfMtL"
      }
    },
    {
      "cell_type": "markdown",
      "source": [
        "Ques9. Can lists contain different data types in Python?\n",
        "\n",
        "Ans: Yes list can contain diff data types."
      ],
      "metadata": {
        "id": "VpYxx1d0fYU5"
      }
    },
    {
      "cell_type": "code",
      "source": [
        "mixed = [1, \"hello\", 3.14]\n",
        "print(mixed)"
      ],
      "metadata": {
        "colab": {
          "base_uri": "https://localhost:8080/"
        },
        "id": "KJ1gDIgNfnLl",
        "outputId": "ac333622-e98e-4e90-ba09-b74e8451a437"
      },
      "execution_count": null,
      "outputs": [
        {
          "output_type": "stream",
          "name": "stdout",
          "text": [
            "[1, 'hello', 3.14]\n"
          ]
        }
      ]
    },
    {
      "cell_type": "markdown",
      "source": [
        "Ques10. Explain why strings are immutable in Python.\n",
        "\n",
        "Ans: Strings are immutable for safety, optimization, and to enable hashability (e.g., as dictionary keys)."
      ],
      "metadata": {
        "id": "BcX3T0qffulV"
      }
    },
    {
      "cell_type": "markdown",
      "source": [
        "Ques11. What advantages do dictionaries offer over lists for certain tasks?\n",
        "\n",
        "Ans: Advantages of dictionary over lists:\n",
        "1. Faster lookup with keys\n",
        "2. Clear key-value mapping"
      ],
      "metadata": {
        "id": "LxewBsQ1f5ua"
      }
    },
    {
      "cell_type": "markdown",
      "source": [
        "Ques12. Describe a scenario where using a tuple would be preferable over a list.\n",
        "\n",
        "Ans: We can used tuple over list when storing fixed configuration settings, like coordinates (x, y) or database credentials."
      ],
      "metadata": {
        "id": "G66CZTaWgQVK"
      }
    },
    {
      "cell_type": "markdown",
      "source": [
        "Ques13. How do sets handle duplicate values in Python?\n",
        "\n",
        "Ans: Sets automatically remove duplicates."
      ],
      "metadata": {
        "id": "TwDNoglqgjKR"
      }
    },
    {
      "cell_type": "code",
      "source": [
        "s = set([1, 2, 2, 3])\n",
        "print(s)"
      ],
      "metadata": {
        "colab": {
          "base_uri": "https://localhost:8080/"
        },
        "id": "18AAHv4Ngqlf",
        "outputId": "317ee09d-ddbe-4527-bde7-8e33f5396a18"
      },
      "execution_count": null,
      "outputs": [
        {
          "output_type": "stream",
          "name": "stdout",
          "text": [
            "{1, 2, 3}\n"
          ]
        }
      ]
    },
    {
      "cell_type": "markdown",
      "source": [
        "Ques14. How does the “in” keyword work differently for lists and dictionaries?\n",
        "\n",
        "Ans: \"in\" keyword for:\n",
        "1. List: checks if a value exists\n",
        "2. Dict: checks if a key exists"
      ],
      "metadata": {
        "id": "k2Lyygr3gyLF"
      }
    },
    {
      "cell_type": "code",
      "source": [
        "3 in [1, 2, 3]\n",
        "'name' in {'name': 'Bob'}\n"
      ],
      "metadata": {
        "colab": {
          "base_uri": "https://localhost:8080/"
        },
        "id": "C3ozcSE_hExf",
        "outputId": "0a0b23d8-f1c2-4d46-cf0c-b7e6f5140c76"
      },
      "execution_count": null,
      "outputs": [
        {
          "output_type": "execute_result",
          "data": {
            "text/plain": [
              "True"
            ]
          },
          "metadata": {},
          "execution_count": 7
        }
      ]
    },
    {
      "cell_type": "markdown",
      "source": [
        "Ques15. Can you modify the elements of a tuple? Explain why or why not.\n",
        "\n",
        "Ans: No. Tuples are immutable, so elements cannot be changed after creation."
      ],
      "metadata": {
        "id": "GxpU1KythKsK"
      }
    },
    {
      "cell_type": "markdown",
      "source": [
        "Ques16. What is a nested dictionary, and give an example of its use case.\n",
        "\n",
        "Ans: A dictionary inside another dictionary. Used for structured data."
      ],
      "metadata": {
        "id": "_6z7IffBhVDd"
      }
    },
    {
      "cell_type": "code",
      "source": [
        "student = {'name': 'John', 'marks': {'math': 90, 'science': 85}}\n",
        "print(student)"
      ],
      "metadata": {
        "colab": {
          "base_uri": "https://localhost:8080/"
        },
        "id": "FV-fUaqahb-C",
        "outputId": "175e984f-d0e5-4ccd-ed50-ef723cff8727"
      },
      "execution_count": null,
      "outputs": [
        {
          "output_type": "stream",
          "name": "stdout",
          "text": [
            "{'name': 'John', 'marks': {'math': 90, 'science': 85}}\n"
          ]
        }
      ]
    },
    {
      "cell_type": "markdown",
      "source": [
        "Ques17. Describe the time complexity of accessing elements in a dictionary.\n",
        "\n",
        "Ans: O(1) on average due to hash table implementation."
      ],
      "metadata": {
        "id": "ARc9-PnnhjSq"
      }
    },
    {
      "cell_type": "markdown",
      "source": [
        "Ques18. In what situations are lists preferred over dictionaries?\n",
        "\n",
        "Ans: List are preferred over dictionaries for:\n",
        "\n",
        "1. Ordered data\n",
        "2. When key-value pairs aren’t needed\n",
        "3. Simpler and more memory-efficient for small datasets"
      ],
      "metadata": {
        "id": "VOb9ixhnhsH3"
      }
    },
    {
      "cell_type": "markdown",
      "source": [
        "Ques19. Why are dictionaries considered unordered, and how does that affect data retrieval?\n",
        "\n",
        "Ans: Pre-Python 3.7, dictionaries were unordered. Now they preserve insertion order but logically still considered unordered as key lookups are not position-based."
      ],
      "metadata": {
        "id": "jYjVrb4ViNk0"
      }
    },
    {
      "cell_type": "markdown",
      "source": [
        "Ques20. Explain the difference between a list and a dictionary in terms of data retrieval.\n",
        "\n",
        "Ans:  List: By index (position-based)\n",
        "\n",
        "Dict: By key (name-based)"
      ],
      "metadata": {
        "id": "8HGglnHDiW7-"
      }
    },
    {
      "cell_type": "markdown",
      "source": [
        "## Practical Questions\n"
      ],
      "metadata": {
        "id": "6dHIeMaFj0hO"
      }
    },
    {
      "cell_type": "markdown",
      "source": [
        "Ques1: Write a code to create a string with your name and print it.\n",
        "\n",
        "Ques2: Write a code to find the length of the string \"Hello World\".\n",
        "\n",
        "Ques3: Write a code to slice the first 3 characters from the string \"Python Programming\".\n",
        "\n",
        "Ques4: Write a code to convert the string \"hello\" to uppercase.\n",
        "\n",
        "Ques5: Write a code to replace the word \"apple\" with \"orange\" in the string \"I like apple\"."
      ],
      "metadata": {
        "id": "KIMeC9bejLh1"
      }
    },
    {
      "cell_type": "code",
      "source": [
        "# 1.\n",
        "name = \"Alice\"\n",
        "print(name)\n",
        "\n",
        "# 2.\n",
        "print(len(\"Hello World\"))\n",
        "\n",
        "# 3.\n",
        "s = \"Python Programming\"\n",
        "print(s[:3])\n",
        "\n",
        "# 4.\n",
        "print(\"hello\".upper())\n",
        "\n",
        "# 5.\n",
        "s = \"I like apple\"\n",
        "print(s.replace(\"apple\", \"orange\"))"
      ],
      "metadata": {
        "colab": {
          "base_uri": "https://localhost:8080/"
        },
        "id": "X3u7VnbNjkcn",
        "outputId": "5e9f31f6-3335-49f6-d873-e1e9e1fd1151"
      },
      "execution_count": null,
      "outputs": [
        {
          "output_type": "stream",
          "name": "stdout",
          "text": [
            "Alice\n",
            "11\n",
            "Pyt\n",
            "HELLO\n",
            "I like orange\n"
          ]
        }
      ]
    },
    {
      "cell_type": "markdown",
      "source": [
        "Ques6: Write a code to create a list with numbers 1 to 5 and print it.\n",
        "\n",
        "Ques7: Write a code to append the number 10 to the list [1, 2, 3, 4].\n",
        "\n",
        "Ques8: Write a code to remove the number 3 from the list [1, 2, 3, 4, 5].\n",
        "\n",
        "Ques9: Write a code to access the second element in the list ['a', 'b', 'c', 'd'].\n",
        "\n",
        "Ques10: Write a code to reverse the list [10, 20, 30, 40, 50]."
      ],
      "metadata": {
        "id": "0MY_OTdNkS6W"
      }
    },
    {
      "cell_type": "code",
      "source": [
        "# 6.\n",
        "lst = [1, 2, 3, 4, 5]\n",
        "print(lst)\n",
        "\n",
        "# 7.\n",
        "lst = [1, 2, 3, 4]\n",
        "lst.append(10)\n",
        "print(lst)\n",
        "\n",
        "# 8.\n",
        "lst = [1, 2, 3, 4, 5]\n",
        "lst.remove(3)\n",
        "print(lst)\n",
        "\n",
        "# 9.\n",
        "lst = ['a', 'b', 'c', 'd']\n",
        "print(lst[1])\n",
        "\n",
        "# 10.\n",
        "lst = [10, 20, 30, 40, 50]\n",
        "lst.reverse()\n",
        "print(lst)"
      ],
      "metadata": {
        "colab": {
          "base_uri": "https://localhost:8080/"
        },
        "id": "M5AplPOEkmOk",
        "outputId": "2569c954-a771-40af-fdf2-56202919ffd0"
      },
      "execution_count": null,
      "outputs": [
        {
          "output_type": "stream",
          "name": "stdout",
          "text": [
            "[1, 2, 3, 4, 5]\n",
            "[1, 2, 3, 4, 10]\n",
            "[1, 2, 4, 5]\n",
            "b\n",
            "[50, 40, 30, 20, 10]\n"
          ]
        }
      ]
    },
    {
      "cell_type": "markdown",
      "source": [
        "Ques11: Write a code to create a tuple with the elements 100, 200, 300 and print it.\n",
        "\n",
        "Ques12: Write a code to access the second-to-last element of the tuple ('red', 'green', 'blue', 'yellow').\n",
        "\n",
        "Ques13: Write a code to find the minimum number in the tuple (10, 20, 5, 15).\n",
        "\n",
        "Ques14: Write a code to find the index of the element \"cat\" in the tuple ('dog', 'cat', 'rabbit').\n",
        "\n",
        "Ques15: Write a code to create a tuple containing three different fruits and check if \"kiwi\" is in it."
      ],
      "metadata": {
        "id": "bDQv0XAWk65u"
      }
    },
    {
      "cell_type": "code",
      "source": [
        "# 11.\n",
        "t = (100, 200, 300)\n",
        "print(t)\n",
        "\n",
        "# 12.\n",
        "colors = ('red', 'green', 'blue', 'yellow')\n",
        "print(colors[-2])  # blue\n",
        "\n",
        "# 13.\n",
        "t = (10, 20, 5, 15)\n",
        "print(min(t))\n",
        "\n",
        "# 14.\n",
        "animals = ('dog', 'cat', 'rabbit')\n",
        "print(animals.index('cat'))\n",
        "\n",
        "# 15.\"\n",
        "fruits = ('apple', 'banana', 'mango')\n",
        "print('kiwi' in fruits)\n"
      ],
      "metadata": {
        "colab": {
          "base_uri": "https://localhost:8080/"
        },
        "id": "y-X-FfQilOc3",
        "outputId": "98a5cfaf-8bd0-43dd-81fb-3966030e52c4"
      },
      "execution_count": null,
      "outputs": [
        {
          "output_type": "stream",
          "name": "stdout",
          "text": [
            "(100, 200, 300)\n",
            "blue\n",
            "5\n",
            "1\n",
            "False\n"
          ]
        }
      ]
    },
    {
      "cell_type": "markdown",
      "source": [
        "Ques16: Write a code to create a set with the elements 'a', 'b', 'c' and print it.\n",
        "\n",
        "Ques17: Write a code to clear all elements from the set {1, 2, 3, 4, 5}.\n",
        "\n",
        "Ques18: Write a code to remove the element 4 from the set {1, 2, 3, 4}.\n",
        "\n",
        "Ques19: Write a code to find the union of two sets {1, 2, 3} and {3, 4, 5}.\n",
        "\n",
        "Ques20: Write a code to find the intersection of two sets {1, 2, 3} and {3, 4, 5}."
      ],
      "metadata": {
        "id": "4v-QlupzlgdT"
      }
    },
    {
      "cell_type": "code",
      "source": [
        "# 16.\n",
        "s = {'a', 'b', 'c'}\n",
        "print(s)\n",
        "\n",
        "# 17.\n",
        "s = {1, 2, 3, 4, 5}\n",
        "s.clear()\n",
        "print(s)\n",
        "\n",
        "# 18.\n",
        "s = {1, 2, 3, 4}\n",
        "s.remove(4)\n",
        "print(s)\n",
        "\n",
        "# 19.\n",
        "a = {1, 2, 3}\n",
        "b = {3, 4, 5}\n",
        "print(a.union(b))\n",
        "\n",
        "# 20.\n",
        "print(a.intersection(b))"
      ],
      "metadata": {
        "colab": {
          "base_uri": "https://localhost:8080/"
        },
        "id": "KE3S-JrRlxxN",
        "outputId": "e1cd857a-c5ed-480a-da3e-82d74569f93b"
      },
      "execution_count": null,
      "outputs": [
        {
          "output_type": "stream",
          "name": "stdout",
          "text": [
            "{'b', 'c', 'a'}\n",
            "set()\n",
            "{1, 2, 3}\n",
            "{1, 2, 3, 4, 5}\n",
            "{3}\n"
          ]
        }
      ]
    },
    {
      "cell_type": "markdown",
      "source": [
        "Ques21: Write a code to create a dictionary with the keys \"name\", \"age\", and \"city\", and print it.\n",
        "\n",
        "Ques22: Write a code to add a new key-value pair \"country\": \"USA\" to the dictionary {'name': 'John', 'age': 25}.\n",
        "\n",
        "Ques23: Write a code to access the value associated with the key \"name\" in the dictionary {'name': 'Alice', 'age': 30}.\n",
        "\n",
        "Ques24: Write a code to remove the key \"age\" from the dictionary {'name': 'Bob', 'age': 22, 'city': 'New York'}.\n",
        "\n",
        "Ques25: Write a code to check if the key \"city\" exists in the dictionary {'name': 'Alice', 'city': 'Paris'}."
      ],
      "metadata": {
        "id": "Kqa_gJEPmPv8"
      }
    },
    {
      "cell_type": "code",
      "source": [
        "# 21.\n",
        "d = {'name': 'John', 'age': 25, 'city': 'NY'}\n",
        "print(d)\n",
        "\n",
        "# 22.\n",
        "d = {'name': 'John', 'age': 25}\n",
        "d['country'] = 'USA'\n",
        "print(d)\n",
        "\n",
        "# 23.\n",
        "d = {'name': 'Alice', 'age': 30}\n",
        "print(d['name'])\n",
        "\n",
        "# 24.\n",
        "d = {'name': 'Bob', 'age': 22, 'city': 'New York'}\n",
        "d.pop('age')\n",
        "print(d)\n",
        "\n",
        "# 25.\n",
        "d = {'name': 'Alice', 'city': 'Paris'}\n",
        "print('city' in d)\n"
      ],
      "metadata": {
        "colab": {
          "base_uri": "https://localhost:8080/"
        },
        "id": "anIvBbKxmZ1p",
        "outputId": "c2321383-b207-4d38-e05c-0b57a098460e"
      },
      "execution_count": null,
      "outputs": [
        {
          "output_type": "stream",
          "name": "stdout",
          "text": [
            "{'name': 'John', 'age': 25, 'city': 'NY'}\n",
            "{'name': 'John', 'age': 25, 'country': 'USA'}\n",
            "Alice\n",
            "{'name': 'Bob', 'city': 'New York'}\n",
            "True\n"
          ]
        }
      ]
    },
    {
      "cell_type": "markdown",
      "source": [
        "Ques26: Write a code to create a list, a tuple, and a dictionary, and print them all.\n",
        "\n",
        "Ques27: Write a code to create a list of 5 random numbers between 1 and 100, sort it in ascending order, and print the\n",
        "result.(replaced)\n",
        "\n",
        "Ques28: Write a code to create a list with strings and print the element at the third index.\n",
        "\n",
        "Ques29: Write a code to combine two dictionaries into one and print the result.\n",
        "\n",
        "Ques30: Write a code to convert a list of strings into a set."
      ],
      "metadata": {
        "id": "vXdmgWZOmy15"
      }
    },
    {
      "cell_type": "code",
      "source": [
        "# 26.\n",
        "lst = [1, 2, 3]\n",
        "tup = (4, 5, 6)\n",
        "dct = {'a': 1, 'b': 2}\n",
        "print(lst, tup, dct)\n",
        "\n",
        "# 27.\n",
        "import random\n",
        "numbers = random.sample(range(1, 101), 5)\n",
        "numbers.sort()\n",
        "print(numbers)\n",
        "\n",
        "# 28.\n",
        "lst = ['apple', 'banana', 'cherry', 'date', 'elderberry']\n",
        "print(lst[3])\n",
        "\n",
        "# 29.\n",
        "d1 = {'a': 1, 'b': 2}\n",
        "d2 = {'c': 3, 'd': 4}\n",
        "combined = {**d1, **d2}\n",
        "print(combined)\n",
        "\n",
        "# 30.\n",
        "lst = ['apple', 'banana', 'apple']\n",
        "print(set(lst))\n"
      ],
      "metadata": {
        "colab": {
          "base_uri": "https://localhost:8080/"
        },
        "id": "6CmwkBGTnADM",
        "outputId": "ce3bf402-3600-4d43-9d7d-65b0deb9408c"
      },
      "execution_count": null,
      "outputs": [
        {
          "output_type": "stream",
          "name": "stdout",
          "text": [
            "[1, 2, 3] (4, 5, 6) {'a': 1, 'b': 2}\n",
            "[3, 83, 93, 94, 96]\n",
            "date\n",
            "{'a': 1, 'b': 2, 'c': 3, 'd': 4}\n",
            "{'apple', 'banana'}\n"
          ]
        }
      ]
    }
  ],
  "metadata": {
    "colab": {
      "provenance": []
    },
    "kernelspec": {
      "display_name": "Python 3",
      "name": "python3"
    },
    "language_info": {
      "name": "python"
    }
  },
  "nbformat": 4,
  "nbformat_minor": 0
}