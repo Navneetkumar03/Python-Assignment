{
  "nbformat": 4,
  "nbformat_minor": 0,
  "metadata": {
    "colab": {
      "provenance": []
    },
    "kernelspec": {
      "name": "python3",
      "display_name": "Python 3"
    },
    "language_info": {
      "name": "python"
    }
  },
  "cells": [
    {
      "cell_type": "markdown",
      "source": [
        "# ***Statistics Advance Part 1***"
      ],
      "metadata": {
        "id": "mc8nqHIR6jhJ"
      }
    },
    {
      "cell_type": "markdown",
      "source": [
        "Ques1: What is a random variable in probability theory?\n",
        "\n",
        "Ans: A random variable is a numerical outcome of a random phenomenon. It maps outcomes from a sample space to real numbers.\n",
        "\n",
        "Example: In tossing a coin, define random variable X as:\n",
        "\n",
        "X = 1 if the result is heads\n",
        "\n",
        "X = 0 if the result is tails"
      ],
      "metadata": {
        "id": "Gj48qMM17kF9"
      }
    },
    {
      "cell_type": "markdown",
      "source": [
        "Ques2: What are the types of random variables?\n",
        "\n",
        "Ans: There are two main types:\n",
        "\n",
        "* Discrete Random Variable – takes finite/countable values (e.g., number of heads in 3 coin tosses).\n",
        "* Continuous Random Variable – takes infinite values in a range (e.g., height, weight)."
      ],
      "metadata": {
        "id": "k0EL2Cew6nRv"
      }
    },
    {
      "cell_type": "markdown",
      "source": [
        "Ques3: What is the difference between discrete and continuous distributions?\n",
        "\n",
        "Ans:\n",
        "* Discrete distribution is for countable outcomes (e.g., Binomial, Poisson).\n",
        "* Continuous distribution is for measurable outcomes (e.g., Normal, Uniform).\n",
        "\n",
        "Example:\n",
        "\n",
        "* Discrete: Rolling a die (1 to 6).\n",
        "* Continuous: Measuring time taken to run a marathon (0 to ∞)."
      ],
      "metadata": {
        "id": "32McppR761rg"
      }
    },
    {
      "cell_type": "markdown",
      "source": [
        "Ques4:What are probability distribution functions (PDF)?\n",
        "\n",
        "Ans:\n",
        "* For discrete variables, PDF gives the probability of each outcome.\n",
        "* For continuous variables, PDF describes the density of the probability at each point (but P(X = a) = 0).\n",
        "\n",
        "Example: In a normal distribution, the bell-shaped curve is the PDF.\n",
        "\n"
      ],
      "metadata": {
        "id": "d5AxuLr98CCo"
      }
    },
    {
      "cell_type": "markdown",
      "source": [
        "Ques5: How do cumulative distribution functions (CDF) differ from PDFs?\n",
        "\n",
        "Ans:\n",
        "* PDF gives P(X = x) for discrete or the density at x for continuous.\n",
        "* CDF gives P(X ≤ x) — the cumulative probability up to x.\n",
        "\n",
        "Example:\n",
        "If P(X = 1) = 0.2, P(X = 2) = 0.3, then CDF at X = 2 is 0.2 + 0.3 = 0.5."
      ],
      "metadata": {
        "id": "99ltrOJP8YJU"
      }
    },
    {
      "cell_type": "markdown",
      "source": [
        "Ques6:What is a discrete uniform distribution?\n",
        "\n",
        "Ans: A distribution where all outcomes are equally likely.\n",
        "\n",
        "Example: Rolling a fair die: P(X = x) = 1/6 for x ∈ {1, 2, 3, 4, 5, 6}.\n",
        "\n"
      ],
      "metadata": {
        "id": "zMLRQznP8pmW"
      }
    },
    {
      "cell_type": "markdown",
      "source": [
        "Ques7: What are the key properties of a Bernoulli distribution?\n",
        "\n",
        "Ans:\n",
        "* Two outcomes: success (1) or failure (0)\n",
        "* Parameter: p (probability of success)\n",
        "\n",
        "Example: Flipping a coin (p = 0.5), success = heads."
      ],
      "metadata": {
        "id": "tPhWGP5x877E"
      }
    },
    {
      "cell_type": "markdown",
      "source": [
        "Ques8:What is the binomial distribution, and how is it used in probability?\n",
        "\n",
        "Ans: Used for the number of successes in n independent Bernoulli trials.\n",
        "\n",
        "Formula: P(X = k) = C(n, k) * p^k * (1-p)^(n-k)\n",
        "\n",
        "Example: Probability of getting 3 heads in 5 coin tosses (p = 0.5)."
      ],
      "metadata": {
        "id": "oTD7iwbO9Pwd"
      }
    },
    {
      "cell_type": "markdown",
      "source": [
        "Ques9: What is the Poisson distribution and where is it applied?\n",
        "\n",
        "Ans: Models the number of events occurring in a fixed interval of time or space.\n",
        "\n",
        "Example: Number of emails received per hour.\n",
        "\n",
        "Formula: P(X = k) = (λ^k * e^-λ) / k!"
      ],
      "metadata": {
        "id": "hCLW8F0V9dhT"
      }
    },
    {
      "cell_type": "markdown",
      "source": [
        "Ques10: What is a continuous uniform distribution?\n",
        "\n",
        "Ans: A distribution where every value in a range [a, b] is equally likely.\n",
        "\n",
        "PDF: f(x) = 1 / (b - a) for a ≤ x ≤ b\n",
        "\n",
        "Example: Picking a random number between 0 and 10."
      ],
      "metadata": {
        "id": "VFBPjjZ79obX"
      }
    },
    {
      "cell_type": "markdown",
      "source": [
        "Ques11:What are the characteristics of a normal distribution?\n",
        "\n",
        "Ans:\n",
        "* Symmetric bell shape\n",
        "* Mean = Median = Mode\n",
        "* Defined by μ (mean) and σ (standard deviation)\n",
        "\n",
        "Example: Heights of adults follow a normal distribution."
      ],
      "metadata": {
        "id": "oxRfvo-n9zcz"
      }
    },
    {
      "cell_type": "markdown",
      "source": [
        "Ques12: What is the standard normal distribution, and why is it important?\n",
        "\n",
        "Ans: A normal distribution with μ = 0 and σ = 1.\n",
        "\n",
        "* Used to compare and standardize values (Z-scores).\n",
        "\n",
        "Example: Z = (X - μ)/σ converts any normal variable to standard normal."
      ],
      "metadata": {
        "id": "ZlRzpQtL-CvU"
      }
    },
    {
      "cell_type": "markdown",
      "source": [
        "Ques13: What is the Central Limit Theorem (CLT), and why is it critical in statistics?\n",
        "\n",
        "Ans: CLT states that the sampling distribution of the sample mean approaches a normal distribution as the sample size increases, regardless of the population’s distribution.\n",
        "\n",
        "Importance: Enables use of normal distribution in hypothesis testing."
      ],
      "metadata": {
        "id": "m0pEla7G-N9-"
      }
    },
    {
      "cell_type": "markdown",
      "source": [
        "Ques14:How does the Central Limit Theorem relate to the normal distribution?\n",
        "\n",
        "Ans: It explains why the mean of a sufficiently large number of independent random variables tends toward a normal distribution—even if the source data is not normal."
      ],
      "metadata": {
        "id": "fFFdhZUU-Ya3"
      }
    },
    {
      "cell_type": "markdown",
      "source": [
        "Ques15: What is the application of Z statistics in hypothesis testing?\n",
        "\n",
        "Ans: Used to test population mean when standard deviation is known.\n",
        "\n",
        "Example: Testing if average weight of a sample differs significantly from population mean."
      ],
      "metadata": {
        "id": "zcDawZnn-gNO"
      }
    },
    {
      "cell_type": "markdown",
      "source": [
        "Ques16:How do you calculate a Z-score, and what does it represent?\n",
        "\n",
        "Ans:\n",
        "* Formula: Z = (X - μ)/σ\n",
        "* Represents how many standard deviations X is from the mean.\n",
        "\n",
        "Example: If X = 70, μ = 60, σ = 5 → Z = 2 (X is 2 std. devs above mean)"
      ],
      "metadata": {
        "id": "55DMvJnC-puj"
      }
    },
    {
      "cell_type": "markdown",
      "source": [
        "Ques17: What are point estimates and interval estimates in statistics?\n",
        "\n",
        "Ans:\n",
        "* Point estimate: A single value estimate of a population parameter (e.g., sample mean).\n",
        "* Interval estimate: A range (e.g., confidence interval) that likely contains the parameter.\n",
        "\n",
        "Example: Mean height = 170 cm (point), CI = [168, 172]."
      ],
      "metadata": {
        "id": "oCudlLFh-zS8"
      }
    },
    {
      "cell_type": "markdown",
      "source": [
        "Ques18: What is the significance of confidence intervals in statistical analysis?\n",
        "\n",
        "Ans: They provide a range in which we are confident (e.g., 95%) the population parameter lies.\n",
        "\n",
        "Example: A 95% CI of [48, 52] for average age means we are 95% confident the true mean lies in that interval."
      ],
      "metadata": {
        "id": "aXHIc4Bl_BZt"
      }
    },
    {
      "cell_type": "markdown",
      "source": [
        "Ques19: What is the relationship between a Z-score and a confidence interval?\n",
        "\n",
        "Ans: Z-scores define the width of the confidence interval.\n",
        "\n",
        "Example: For 95% CI, Z ≈ 1.96, so CI = X̄ ± 1.96 * (σ/√n)"
      ],
      "metadata": {
        "id": "D7_nmIex_K7i"
      }
    },
    {
      "cell_type": "markdown",
      "source": [
        "Ques20: How are Z-scores used to compare different distributions?\n",
        "\n",
        "Ans: Z-scores standardize values, making different distributions comparable.\n",
        "\n",
        "Example: Comparing student scores from different exams with different means/variances."
      ],
      "metadata": {
        "id": "WcJ6y2Au_TB6"
      }
    },
    {
      "cell_type": "markdown",
      "source": [
        "Ques21:What are the assumptions for applying the Central Limit Theorem?\n",
        "\n",
        "Ans:\n",
        "* Independent samples\n",
        "* Sample size is large (typically n ≥ 30)\n",
        "* Identically distributed variables with finite mean and variance"
      ],
      "metadata": {
        "id": "SkE-ioKx_dKT"
      }
    },
    {
      "cell_type": "markdown",
      "source": [
        "Ques22: What is the concept of expected value in a probability distribution?\n",
        "\n",
        "Ans: It is the long-run average outcome of a random variable.\n",
        "\n",
        "* Formula (Discrete): E(X) = Σ[x * P(x)]\n",
        "\n",
        "Example: In die roll: E(X) = (1+2+3+4+5+6)/6 = 3.5"
      ],
      "metadata": {
        "id": "I4fWQiYi_pc5"
      }
    },
    {
      "cell_type": "markdown",
      "source": [
        "Ques23: How does a probability distribution relate to the expected outcome of a random variable?\n",
        "\n",
        "Ans: The distribution defines all possible outcomes and their probabilities, which are used to compute the expected value — a measure of central tendency."
      ],
      "metadata": {
        "id": "xU4tZotr_2Ep"
      }
    },
    {
      "cell_type": "markdown",
      "source": [],
      "metadata": {
        "id": "9LDZFrAS7X9L"
      }
    }
  ]
}