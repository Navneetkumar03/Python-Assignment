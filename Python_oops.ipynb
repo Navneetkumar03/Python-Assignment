{
  "nbformat": 4,
  "nbformat_minor": 0,
  "metadata": {
    "colab": {
      "provenance": []
    },
    "kernelspec": {
      "name": "python3",
      "display_name": "Python 3"
    },
    "language_info": {
      "name": "python"
    }
  },
  "cells": [
    {
      "cell_type": "markdown",
      "source": [
        "* Python OOPs Questions"
      ],
      "metadata": {
        "id": "cyrrLMghjyRL"
      }
    },
    {
      "cell_type": "markdown",
      "source": [
        "Ques1. What is Object-Oriented Programming (OOP)?\n",
        "\n",
        "Ans: OOP is a programming paradigm that organizes code using objects, which are instances of classes. It supports:\n",
        "1. Encapsulation\n",
        "2. Abstraction\n",
        "3. Inheritance\n",
        "4. Polymorphism\n"
      ],
      "metadata": {
        "id": "K0o_via_j5iX"
      }
    },
    {
      "cell_type": "code",
      "source": [
        "class Car:\n",
        "    def drive(self):\n",
        "        print(\"Driving...\")\n"
      ],
      "metadata": {
        "id": "ZCYe_8sGmiRJ"
      },
      "execution_count": null,
      "outputs": []
    },
    {
      "cell_type": "markdown",
      "source": [
        "Ques2. What is a class in OOP?\n",
        "\n",
        "Ans. A class is a blueprint for creating objects.class does not occupy any physical space ."
      ],
      "metadata": {
        "id": "-hziVg15l0UA"
      }
    },
    {
      "cell_type": "code",
      "source": [
        "class Dog:\n",
        "    def bark(self):\n",
        "        print(\"Woof!\")\n",
        "\n",
        "obj=Dog()\n",
        "obj.bark()"
      ],
      "metadata": {
        "colab": {
          "base_uri": "https://localhost:8080/"
        },
        "id": "0JRHSuRlmu8F",
        "outputId": "41d4c7dd-91d1-4ceb-93da-bbe86c65e457"
      },
      "execution_count": null,
      "outputs": [
        {
          "output_type": "stream",
          "name": "stdout",
          "text": [
            "Woof!\n"
          ]
        }
      ]
    },
    {
      "cell_type": "markdown",
      "source": [],
      "metadata": {
        "id": "hQ4VsS_SkULY"
      }
    },
    {
      "cell_type": "markdown",
      "source": [
        "Ques3. What is an object in OOP?\n",
        "\n",
        "Ans. An object is an instance of a class."
      ],
      "metadata": {
        "id": "VJelMuWenOeW"
      }
    },
    {
      "cell_type": "code",
      "source": [
        "# class:\n",
        "class Dog:\n",
        "    def bark(self):\n",
        "        print(\"Woof!\")\n",
        "\n",
        "#Object:\n",
        "obj=Dog()\n",
        "obj.bark()"
      ],
      "metadata": {
        "id": "AmTO9pDgnakF"
      },
      "execution_count": null,
      "outputs": []
    },
    {
      "cell_type": "markdown",
      "source": [
        "Ques4. What is the difference between abstraction and encapsulation?\n",
        "\n",
        "Ans: Difference between abstraction and encapsulation:\n",
        "\n",
        "Abstraction: Hides complexity by showing only necessary details.\n",
        "\n",
        "Encapsulation: Restricts direct access to some components."
      ],
      "metadata": {
        "id": "uq-VCakrn5mV"
      }
    },
    {
      "cell_type": "code",
      "source": [
        "# Abstraction\n",
        "from abc import ABC, abstractmethod\n",
        "class Payment(ABC):\n",
        "    @abstractmethod\n",
        "    def pay(self): pass\n",
        "\n",
        "# Encapsulation\n",
        "class Account:\n",
        "    def __init__(self):\n",
        "        self.__balance = 0  # private\n",
        "\n",
        "    def deposit(self, amount):\n",
        "        self.__balance += amount\n"
      ],
      "metadata": {
        "id": "9GWQVm4ioLOg"
      },
      "execution_count": null,
      "outputs": []
    },
    {
      "cell_type": "markdown",
      "source": [
        "Ques5. What are dunder methods in Python?\n",
        "\n",
        "Ans. Dunder (Double Underscore) methods like __init__, __str__, __repr__ customize class behavior.it is also called as constructor."
      ],
      "metadata": {
        "id": "Gy6tjy75osYQ"
      }
    },
    {
      "cell_type": "code",
      "source": [
        "class Book:\n",
        "    def __init__(self, title):\n",
        "        self.title = title\n",
        "\n",
        "    def __str__(self):\n",
        "        return f\"Book: {self.title}\"\n",
        "\n",
        "obj1=Book(\"Wings of fire\")\n",
        "obj1.__str__()"
      ],
      "metadata": {
        "colab": {
          "base_uri": "https://localhost:8080/",
          "height": 35
        },
        "id": "jPv8B5hEo9sB",
        "outputId": "8772762d-6be5-4ac8-d534-38d3309bc22e"
      },
      "execution_count": null,
      "outputs": [
        {
          "output_type": "execute_result",
          "data": {
            "text/plain": [
              "'Book: Wings of fire'"
            ],
            "application/vnd.google.colaboratory.intrinsic+json": {
              "type": "string"
            }
          },
          "metadata": {},
          "execution_count": 11
        }
      ]
    },
    {
      "cell_type": "markdown",
      "source": [
        "Ques6. Explain the concept of inheritance in OOP.\n",
        "\n",
        "Ans. Inheritance allows one class to use the properties and methods of another.\n",
        "1. Single inheritance.\n",
        "2. Multiple inheritance.\n",
        "3. Multilevel inheritance.\n",
        "4. Hierarchical Inheritance\n",
        "5. Hybrid inheritance."
      ],
      "metadata": {
        "id": "IdTHwzv0qCfG"
      }
    },
    {
      "cell_type": "code",
      "source": [
        "class Animal:\n",
        "    def sound(self):\n",
        "        return \"Some sound\"\n",
        "\n",
        "class Dog(Animal):  # Dog inherited Animal class\n",
        "    def bark(self):\n",
        "        return \"Dog is Barking\"\n",
        "\n",
        "obj=Dog()\n",
        "obj.sound()\n",
        "obj.bark()\n"
      ],
      "metadata": {
        "colab": {
          "base_uri": "https://localhost:8080/",
          "height": 35
        },
        "id": "93dej8K1qyLc",
        "outputId": "5fbfea12-3641-4ee8-c033-94b35c8b0244"
      },
      "execution_count": null,
      "outputs": [
        {
          "output_type": "execute_result",
          "data": {
            "text/plain": [
              "'Dog is Barking'"
            ],
            "application/vnd.google.colaboratory.intrinsic+json": {
              "type": "string"
            }
          },
          "metadata": {},
          "execution_count": 19
        }
      ]
    },
    {
      "cell_type": "markdown",
      "source": [
        "Ques7. What is polymorphism in OOP?\n",
        "\n",
        "Ans.  Polymorphism allows different classes to respond to the same method in different ways.\n"
      ],
      "metadata": {
        "id": "lHu2nFVqsLpF"
      }
    },
    {
      "cell_type": "code",
      "source": [
        "class Bird:\n",
        "    def sound(self):\n",
        "        return \"Tweet\"\n",
        "\n",
        "class Cat:\n",
        "    def sound(self):\n",
        "        return \"Meow\"\n",
        "\n",
        "def make_sound(animal):\n",
        "    print(animal.sound())\n",
        "\n",
        "make_sound(Bird())\n",
        "make_sound(Cat())"
      ],
      "metadata": {
        "colab": {
          "base_uri": "https://localhost:8080/"
        },
        "id": "duYjxNOXs2zW",
        "outputId": "11f79123-4073-4c72-8b0d-54b05bb2c7aa"
      },
      "execution_count": null,
      "outputs": [
        {
          "output_type": "stream",
          "name": "stdout",
          "text": [
            "Tweet\n",
            "Meow\n"
          ]
        }
      ]
    },
    {
      "cell_type": "markdown",
      "source": [
        "Ques8. How is encapsulation achieved in Python?\n",
        "\n",
        "Ans. Encapsulation is the process of wrapping the data and method in single format. Encapsulation is achieved by using private variables and providing access via methods."
      ],
      "metadata": {
        "id": "6yYlHiE7uFdm"
      }
    },
    {
      "cell_type": "code",
      "source": [
        "class Student:\n",
        "    def __init__(self):\n",
        "        self.__marks = 0\n",
        "\n",
        "    def set_marks(self, m):\n",
        "        self.__marks = m\n",
        "\n",
        "    def get_marks(self):\n",
        "        return self.__marks\n",
        "\n",
        "\n",
        "obj=Student()\n",
        "obj.set_marks(90)\n",
        "obj.get_marks()"
      ],
      "metadata": {
        "colab": {
          "base_uri": "https://localhost:8080/"
        },
        "id": "2lyaYFNfuc2a",
        "outputId": "c8f725f2-6ecb-4313-e4db-701a4409bc6f"
      },
      "execution_count": null,
      "outputs": [
        {
          "output_type": "execute_result",
          "data": {
            "text/plain": [
              "90"
            ]
          },
          "metadata": {},
          "execution_count": 23
        }
      ]
    },
    {
      "cell_type": "markdown",
      "source": [
        "Ques9. What is a constructor in Python?\n",
        "\n",
        "Ans. A constructor is a special method (__init__) automatically invoked to initialize an object."
      ],
      "metadata": {
        "id": "bJNx6fRNxDwB"
      }
    },
    {
      "cell_type": "code",
      "source": [
        "class Employee:\n",
        "    def __init__(self, name):\n",
        "        self.name = name\n",
        "\n",
        "e = Employee(\"John\")\n",
        "print(e.name)\n"
      ],
      "metadata": {
        "colab": {
          "base_uri": "https://localhost:8080/"
        },
        "id": "mZHj73yvxMxu",
        "outputId": "d7fea1ca-1295-49b9-f842-d7f4bdeb6088"
      },
      "execution_count": null,
      "outputs": [
        {
          "output_type": "stream",
          "name": "stdout",
          "text": [
            "John\n"
          ]
        }
      ]
    },
    {
      "cell_type": "markdown",
      "source": [
        "Ques 10. What are class and static methods in Python?\n",
        "\n",
        "Ans. Class method:\n",
        "* Works with class-level data, not instance data.\n",
        "* First argument is cls (refers to the class, not object).\n",
        "* Defined using the @classmethod decorator.\n",
        "\n",
        " Static method:\n",
        "* Doesn’t take self or cls as the first parameter.\n",
        "* Defined using the @staticmethod decorator.\n",
        "* Used for utility functions that logically belong to the class but don’t need access to class or instance.\n"
      ],
      "metadata": {
        "id": "Iq8u3zFVxVxk"
      }
    },
    {
      "cell_type": "code",
      "source": [
        "class Student:\n",
        "    school_name = \"ABC School\"\n",
        "\n",
        "    @classmethod\n",
        "    def get_school_name(cls):\n",
        "        return cls.school_name\n",
        "\n",
        "print(Student.get_school_name())\n",
        "\n",
        "\n",
        "class MathHelper:\n",
        "    @staticmethod\n",
        "    def add(x, y):\n",
        "        return x + y\n",
        "\n",
        "print(MathHelper.add(5, 3))\n"
      ],
      "metadata": {
        "colab": {
          "base_uri": "https://localhost:8080/"
        },
        "id": "DEojOJrxxTuX",
        "outputId": "e599c7fe-4951-4bfb-e822-74931797da46"
      },
      "execution_count": null,
      "outputs": [
        {
          "output_type": "stream",
          "name": "stdout",
          "text": [
            "ABC School\n",
            "8\n"
          ]
        }
      ]
    },
    {
      "cell_type": "markdown",
      "source": [
        "Ques11. What is Method Overloading in Python?\n",
        "\n",
        "Ans. Method Overloading means defining multiple methods with the same name but different parameters.\n",
        "\n",
        "Python does not support traditional method overloading like languages such as Java or C++.If you define multiple methods with the same name, the last one will override the previous ones.\n",
        "\n",
        "You can simulate method overloading using:\n",
        "\n",
        "1. Default arguments.\n",
        "2. Variable-length arguments (*args, **kwargs)."
      ],
      "metadata": {
        "id": "VekxqJyUVPoY"
      }
    },
    {
      "cell_type": "code",
      "source": [
        "class Calculator:\n",
        "    def add(self, *args):\n",
        "        return sum(args)\n",
        "\n",
        "calc = Calculator()\n",
        "print(calc.add(1, 2))\n",
        "print(calc.add(1, 2, 3))\n",
        "print(calc.add())\n"
      ],
      "metadata": {
        "colab": {
          "base_uri": "https://localhost:8080/"
        },
        "id": "tTbmU8j7WCF0",
        "outputId": "e072075e-a87f-41ff-f9dc-85cd694ecd70"
      },
      "execution_count": null,
      "outputs": [
        {
          "output_type": "stream",
          "name": "stdout",
          "text": [
            "3\n",
            "6\n",
            "0\n"
          ]
        }
      ]
    },
    {
      "cell_type": "markdown",
      "source": [
        "Ques12. What is method overriding in OOP?\n",
        "\n",
        "Ans. Method Overriding occurs when a child class provides a specific implementation of a method that is already defined in its parent class."
      ],
      "metadata": {
        "id": "CbAGNf7JWR14"
      }
    },
    {
      "cell_type": "code",
      "source": [
        "class Animal:\n",
        "    def sound(self):\n",
        "        print(\"Animal makes a sound\")\n",
        "\n",
        "class Dog(Animal):\n",
        "    def sound(self):\n",
        "        print(\"Dog barks\")\n",
        "\n",
        "\n",
        "a = Animal()\n",
        "a.sound()\n",
        "\n",
        "d = Dog()\n",
        "d.sound()\n"
      ],
      "metadata": {
        "colab": {
          "base_uri": "https://localhost:8080/"
        },
        "id": "kZZWv1IWWtqU",
        "outputId": "321fdc15-73bd-40c4-b180-7e3257de19dd"
      },
      "execution_count": null,
      "outputs": [
        {
          "output_type": "stream",
          "name": "stdout",
          "text": [
            "Animal makes a sound\n",
            "Dog barks\n"
          ]
        }
      ]
    },
    {
      "cell_type": "markdown",
      "source": [
        "Ques13. What is a property decorator in Python?\n",
        "\n",
        "Ans. @property makes a method behave like an attribute (getter). Used for controlled access."
      ],
      "metadata": {
        "id": "H5Z_BudiZ7B8"
      }
    },
    {
      "cell_type": "code",
      "source": [
        "class Circle:\n",
        "    def __init__(self, radius):\n",
        "        self._radius = radius\n",
        "\n",
        "    @property\n",
        "    def area(self):\n",
        "        return 3.14 * self._radius ** 2\n",
        "\n",
        "c = Circle(5)\n",
        "print(c.area)\n"
      ],
      "metadata": {
        "colab": {
          "base_uri": "https://localhost:8080/"
        },
        "id": "eAkBA2FWaH5s",
        "outputId": "777471d5-2ef5-49da-c870-57abbe3326c3"
      },
      "execution_count": null,
      "outputs": [
        {
          "output_type": "stream",
          "name": "stdout",
          "text": [
            "78.5\n"
          ]
        }
      ]
    },
    {
      "cell_type": "markdown",
      "source": [
        "Ques14. Why is polymorphism important in OOP?\n",
        "\n",
        "Ans. Importance of polymorphism:\n",
        "1. Promotes flexibility\n",
        "2. Code reuse\n",
        "3. Enables dynamic method resolution"
      ],
      "metadata": {
        "id": "vo0RezDnaKdv"
      }
    },
    {
      "cell_type": "markdown",
      "source": [
        "Ques15. What is an abstract class in Python?\n",
        "\n",
        "Ans. An abstract class in Python is a class that cannot be instantiated directly and is meant to be inherited by other classes. It is used to define a common interface for all its subclasses. Abstract classes are created using the ABC (Abstract Base Class) module and @abstractmethod decorator.\n",
        "\n"
      ],
      "metadata": {
        "id": "vfpc37z-amhg"
      }
    },
    {
      "cell_type": "code",
      "source": [
        "from abc import ABC, abstractmethod\n",
        "\n",
        "class Animal(ABC):\n",
        "    @abstractmethod\n",
        "    def make_sound(self):\n",
        "        pass\n",
        "\n",
        "    def breathe(self):\n",
        "        print(\"Breathing...\")\n",
        "\n",
        "class Dog(Animal):\n",
        "    def make_sound(self):\n",
        "        print(\"Bark!\")\n",
        "\n",
        "class Cat(Animal):\n",
        "    def make_sound(self):\n",
        "        print(\"Meow!\")\n",
        "\n",
        "# animal = Animal()  #  Can't instantiate abstract class\n",
        "dog = Dog()\n",
        "dog.make_sound()\n",
        "dog.breathe()\n"
      ],
      "metadata": {
        "colab": {
          "base_uri": "https://localhost:8080/"
        },
        "id": "V3p--BEVbCeB",
        "outputId": "1a98df78-5a8c-4f49-c019-cfac8a4f16c8"
      },
      "execution_count": null,
      "outputs": [
        {
          "output_type": "stream",
          "name": "stdout",
          "text": [
            "Bark!\n",
            "Breathing...\n"
          ]
        }
      ]
    },
    {
      "cell_type": "markdown",
      "source": [
        "Ques16. What are the advantages of OOP?\n",
        "\n",
        "Ans. Advantages of OOP:\n",
        "1. Code reusability (inheritance)\n",
        "2. Modularity\n",
        "3. Easier debugging\n",
        "4. Real-world modeling\n",
        "5. Scalability"
      ],
      "metadata": {
        "id": "UDk_h8mqbXXu"
      }
    },
    {
      "cell_type": "markdown",
      "source": [
        "Ques17. What is the difference between a class variable and an instance variable?\n",
        "\n",
        "Ans.  Class Variable:\n",
        "\n",
        "* A class variable is a variable that is shared by all instances of a class.\n",
        "* It is defined inside the class, but outside any instance methods (like __init__).\n",
        "* Class variables are accessed using class name or instance.\n",
        "* They store values that should be common across all instances of the class.\n",
        "\n",
        "Instance Variable:\n",
        "\n",
        "* An instance variable is a variable that is specific to each instance of the class.\n",
        "* It is defined inside instance methods (like __init__).\n",
        "* Instance variables are accessed using the instance of the class (i.e., through self).\n",
        "* They store values that can vary between instances.\n",
        "\n"
      ],
      "metadata": {
        "id": "2CpSVe2Eb7U8"
      }
    },
    {
      "cell_type": "code",
      "source": [
        "class Dog:\n",
        "    species = \"Canis familiaris\"  # Class variable\n",
        "\n",
        "    def __init__(self, name, age):\n",
        "        self.name = name  # Instance variable\n",
        "        self.age = age    # Instance variable\n",
        "\n",
        "\n",
        "dog1 = Dog(\"Buddy\", 3)\n",
        "print(dog1.age)\n",
        "print(dog1.name)\n",
        "print(dog1.species)"
      ],
      "metadata": {
        "colab": {
          "base_uri": "https://localhost:8080/"
        },
        "id": "gLTKox50c2e5",
        "outputId": "2bf8b086-701e-4956-9a61-62c174317c1f"
      },
      "execution_count": null,
      "outputs": [
        {
          "output_type": "stream",
          "name": "stdout",
          "text": [
            "3\n",
            "Buddy\n",
            "Canis familiaris\n"
          ]
        }
      ]
    },
    {
      "cell_type": "markdown",
      "source": [
        "Ques18. What is multiple inheritance in Python?\n",
        "\n",
        "Ans. When a class inherits from more than one parent class."
      ],
      "metadata": {
        "id": "yfRhN0vsdSeL"
      }
    },
    {
      "cell_type": "code",
      "source": [
        "class A:\n",
        "    def greet1(self):\n",
        "        print(\"Hello from A\")\n",
        "\n",
        "class B:\n",
        "    def greet2(self):\n",
        "        print(\"Hello from B\")\n",
        "\n",
        "class C(A, B):\n",
        "    pass\n",
        "\n",
        "c = C()\n",
        "c.greet1()\n",
        "c.greet2()\n"
      ],
      "metadata": {
        "colab": {
          "base_uri": "https://localhost:8080/"
        },
        "id": "dAWDF-Cddmga",
        "outputId": "d6571c62-bfd1-4191-f227-8ef1a31e21f7"
      },
      "execution_count": null,
      "outputs": [
        {
          "output_type": "stream",
          "name": "stdout",
          "text": [
            "Hello from A\n",
            "Hello from B\n"
          ]
        }
      ]
    },
    {
      "cell_type": "markdown",
      "source": [
        "Ques19. Purpose of __str__ and __repr__ methods\n",
        "\n",
        "Ans.\n",
        "1. __str__: Human-readable string (used by print).\n",
        "2. __repr__: Unambiguous string (used in debugging)."
      ],
      "metadata": {
        "id": "Lonb3DtRd1iU"
      }
    },
    {
      "cell_type": "code",
      "source": [
        "class Product:\n",
        "    def __str__(self):\n",
        "        return \"User-friendly string\"\n",
        "\n",
        "    def __repr__(self):\n",
        "        return \"Developer-friendly string\"\n",
        "\n",
        "obj1=Product()\n",
        "obj1.__str__()\n",
        "obj1.__repr__()"
      ],
      "metadata": {
        "id": "2ON1LRBpeDte",
        "colab": {
          "base_uri": "https://localhost:8080/",
          "height": 35
        },
        "outputId": "a02ba664-e100-4e95-c0c7-5f00f5dcdb72"
      },
      "execution_count": 19,
      "outputs": [
        {
          "output_type": "execute_result",
          "data": {
            "text/plain": [
              "'Developer-friendly string'"
            ],
            "application/vnd.google.colaboratory.intrinsic+json": {
              "type": "string"
            }
          },
          "metadata": {},
          "execution_count": 19
        }
      ]
    },
    {
      "cell_type": "markdown",
      "source": [
        "Ques20. What is the significance of the super() function in Python?\n",
        "\n",
        "Ans. super() allows access to parent class methods."
      ],
      "metadata": {
        "id": "nLE04z7tfkOT"
      }
    },
    {
      "cell_type": "code",
      "source": [
        "class Parent:\n",
        "    def greet(self):\n",
        "        print(\"Hello from Parent\")\n",
        "\n",
        "class Child(Parent):\n",
        "    def greet(self):\n",
        "        super().greet()\n",
        "        print(\"Hello from Child\")\n",
        "\n",
        "Child().greet()\n"
      ],
      "metadata": {
        "colab": {
          "base_uri": "https://localhost:8080/"
        },
        "id": "zfyOmAzXfpuY",
        "outputId": "51b17401-42c2-47cd-8af7-2e902cb2d2f9"
      },
      "execution_count": 20,
      "outputs": [
        {
          "output_type": "stream",
          "name": "stdout",
          "text": [
            "Hello from Parent\n",
            "Hello from Child\n"
          ]
        }
      ]
    },
    {
      "cell_type": "markdown",
      "source": [
        "Ques21. What is the significance of the __del__ method in Python?\n",
        "\n",
        "Ans. __del__ method is Called when an object is destroyed. Acts like a destructor."
      ],
      "metadata": {
        "id": "ubO0QJNIf1bh"
      }
    },
    {
      "cell_type": "code",
      "source": [
        "class Demo:\n",
        "    def __del__(self):\n",
        "        print(\"Object is being deleted\")"
      ],
      "metadata": {
        "id": "mtTGVdnbgDIj"
      },
      "execution_count": 23,
      "outputs": []
    },
    {
      "cell_type": "markdown",
      "source": [
        "Ques22. Difference between @staticmethod and @classmethod\n",
        "\n",
        "Ans. **@staticmethod:**\n",
        "\n",
        "* A static method is a method that does not take the instance (self) or the class (cls) as its first argument.\n",
        "* It can be called on the class itself or any instance of the class, but it doesn't interact with the instance or class directly.\n",
        "* It is used for functions that logically belong to the class but don't require access to the class or instance.\n",
        "\n",
        "  **@classmethod:**\n",
        "\n",
        "* A class method takes the class (cls) as its first argument, which means it can access or modify class-level attributes but not instance-level attributes.\n",
        "* It is bound to the class rather than an instance and is used when you need to operate on class-level data, such as modifying class variables."
      ],
      "metadata": {
        "id": "PPVytrq3gcsA"
      }
    },
    {
      "cell_type": "code",
      "source": [
        "class MyClass:\n",
        "    class_variable = 10\n",
        "\n",
        "    def __init__(self, value):\n",
        "        self.instance_variable = value\n",
        "\n",
        "    @staticmethod\n",
        "    def static_method(x, y):\n",
        "        return x + y\n",
        "\n",
        "    @classmethod\n",
        "    def class_method(cls):\n",
        "        return f\"Class-level value: {cls.class_variable}\"\n",
        "\n",
        "\n",
        "print(MyClass.static_method(5, 7))\n",
        "\n",
        "print(MyClass.class_method())\n",
        "\n",
        "obj = MyClass(5)\n",
        "print(obj.class_method())\n"
      ],
      "metadata": {
        "colab": {
          "base_uri": "https://localhost:8080/"
        },
        "id": "8ApLr3uSg7S0",
        "outputId": "853711c1-51c6-4984-ca94-8b44d756a73c"
      },
      "execution_count": 24,
      "outputs": [
        {
          "output_type": "stream",
          "name": "stdout",
          "text": [
            "12\n",
            "Class-level value: 10\n",
            "Class-level value: 10\n"
          ]
        }
      ]
    },
    {
      "cell_type": "markdown",
      "source": [
        "Ques23. How Polymorphism Works in Python with Inheritance\n",
        "\n",
        "Ans. Polymorphism in Python means the same method name can behave differently based on the object that invokes it. When used with inheritance, polymorphism allows subclasses to provide their own implementation of methods defined in the base class."
      ],
      "metadata": {
        "id": "dBN5EAp1h_x-"
      }
    },
    {
      "cell_type": "code",
      "source": [
        "class Animal:\n",
        "    def speak(self):\n",
        "        print(\"Animal makes a sound\")\n",
        "\n",
        "class Dog(Animal):\n",
        "    def speak(self):\n",
        "        print(\"Dog barks\")\n",
        "\n",
        "class Cat(Animal):\n",
        "    def speak(self):\n",
        "        print(\"Cat meows\")\n",
        "\n",
        "animals = [Dog(), Cat(), Animal()]\n",
        "\n",
        "for animal in animals:\n",
        "    animal.speak()\n"
      ],
      "metadata": {
        "colab": {
          "base_uri": "https://localhost:8080/"
        },
        "id": "-4WCCch9o0BL",
        "outputId": "481b96b7-555e-44cb-af4d-c9e206103f78"
      },
      "execution_count": 46,
      "outputs": [
        {
          "output_type": "stream",
          "name": "stdout",
          "text": [
            "Dog barks\n",
            "Cat meows\n",
            "Animal makes a sound\n"
          ]
        }
      ]
    },
    {
      "cell_type": "markdown",
      "source": [
        "Ques24. What is method chaining in Python OOP?\n",
        "\n",
        "Ans. Calling multiple methods on the same object in a single line."
      ],
      "metadata": {
        "id": "54o-stUghRrr"
      }
    },
    {
      "cell_type": "code",
      "source": [
        "class Builder:\n",
        "    def step1(self):\n",
        "        print(\"Step 1\")\n",
        "        return self\n",
        "\n",
        "    def step2(self):\n",
        "        print(\"Step 2\")\n",
        "        return self\n",
        "\n",
        "b = Builder()\n",
        "b.step1().step2()\n"
      ],
      "metadata": {
        "colab": {
          "base_uri": "https://localhost:8080/"
        },
        "id": "n9YotqV7h-9O",
        "outputId": "0c85188c-5dd6-4a51-c01f-a4ea350e659a"
      },
      "execution_count": 25,
      "outputs": [
        {
          "output_type": "stream",
          "name": "stdout",
          "text": [
            "Step 1\n",
            "Step 2\n"
          ]
        },
        {
          "output_type": "execute_result",
          "data": {
            "text/plain": [
              "<__main__.Builder at 0x7eaf1dad5d50>"
            ]
          },
          "metadata": {},
          "execution_count": 25
        }
      ]
    },
    {
      "cell_type": "markdown",
      "source": [
        "Ques25. What is the purpose of the __call__ method in Python?\n",
        "\n",
        "Ans. __call__ allows an object to be called like a function."
      ],
      "metadata": {
        "id": "xC6qjUQmiLGC"
      }
    },
    {
      "cell_type": "code",
      "source": [
        "class CallableObject:\n",
        "    def __call__(self, name):\n",
        "        print(f\"Called with {name}\")\n",
        "\n",
        "obj = CallableObject()\n",
        "obj(\"Navneet\")\n"
      ],
      "metadata": {
        "colab": {
          "base_uri": "https://localhost:8080/"
        },
        "id": "GqTVpquOixk0",
        "outputId": "c1121087-ec6e-4c97-d1ca-fd23969b15e0"
      },
      "execution_count": 26,
      "outputs": [
        {
          "output_type": "stream",
          "name": "stdout",
          "text": [
            "Called with Navneet\n"
          ]
        }
      ]
    },
    {
      "cell_type": "markdown",
      "source": [
        "* Practical Questions"
      ],
      "metadata": {
        "id": "oNr8e5pojKJt"
      }
    },
    {
      "cell_type": "markdown",
      "source": [
        "Ques1. Create a parent class Animal with a method speak() that prints a generic message. Create a child class Dog that overrides the speak() method to print \"Bark!\"."
      ],
      "metadata": {
        "id": "kY-1qIb-jQFD"
      }
    },
    {
      "cell_type": "code",
      "source": [
        "class Animal:\n",
        "    def speak(self):\n",
        "        print(\"This is a generic animal sound.\")\n",
        "\n",
        "class Dog(Animal):\n",
        "    def speak(self):\n",
        "        print(\"Bark!\")\n",
        "\n",
        "d = Dog()\n",
        "d.speak()\n"
      ],
      "metadata": {
        "colab": {
          "base_uri": "https://localhost:8080/"
        },
        "id": "NMv4LHbRjziy",
        "outputId": "6f00eda5-29fb-4521-b378-ba8a8fc2751a"
      },
      "execution_count": 27,
      "outputs": [
        {
          "output_type": "stream",
          "name": "stdout",
          "text": [
            "Bark!\n"
          ]
        }
      ]
    },
    {
      "cell_type": "markdown",
      "source": [
        "Ques2. Write a program to create an abstract class Shape with a method area(). Derive classes Circle and Rectangle from it and implement the area() method in both."
      ],
      "metadata": {
        "id": "w2eHuZBpkBSW"
      }
    },
    {
      "cell_type": "code",
      "source": [
        "from abc import ABC, abstractmethod\n",
        "\n",
        "class Shape(ABC):\n",
        "    @abstractmethod\n",
        "    def area(self):\n",
        "        pass\n",
        "\n",
        "class Circle(Shape):\n",
        "    def __init__(self, radius):\n",
        "        self.radius = radius\n",
        "\n",
        "    def area(self):\n",
        "        return 3.14 * self.radius ** 2\n",
        "\n",
        "class Rectangle(Shape):\n",
        "    def __init__(self, length, width):\n",
        "        self.length = length\n",
        "        self.width = width\n",
        "\n",
        "    def area(self):\n",
        "        return self.length * self.width\n",
        "\n",
        "c = Circle(5)\n",
        "r = Rectangle(4, 6)\n",
        "print(c.area())\n",
        "print(r.area())\n"
      ],
      "metadata": {
        "colab": {
          "base_uri": "https://localhost:8080/"
        },
        "id": "N64OBl8jkKlR",
        "outputId": "34d2b149-fa72-4288-f4b7-2ff42cd8a8c6"
      },
      "execution_count": 28,
      "outputs": [
        {
          "output_type": "stream",
          "name": "stdout",
          "text": [
            "78.5\n",
            "24\n"
          ]
        }
      ]
    },
    {
      "cell_type": "markdown",
      "source": [
        "Ques3. Implement a multi-level inheritance scenario where a class Vehicle has an attribute type. Derive a class Car and further derive a class ElectricCar that adds a battery attribute."
      ],
      "metadata": {
        "id": "wgm9OD8tkfqb"
      }
    },
    {
      "cell_type": "code",
      "source": [
        "class Vehicle:\n",
        "    def __init__(self, v_type):\n",
        "        self.type = v_type\n",
        "\n",
        "class Car(Vehicle):\n",
        "    def __init__(self, v_type, brand):\n",
        "        super().__init__(v_type)\n",
        "        self.brand = brand\n",
        "\n",
        "class ElectricCar(Car):\n",
        "    def __init__(self, v_type, brand, battery):\n",
        "        super().__init__(v_type, brand)\n",
        "        self.battery = battery\n",
        "\n",
        "ec = ElectricCar(\"Electric\", \"Tesla\", \"75 kWh\")\n",
        "print(ec.type, ec.brand, ec.battery)\n"
      ],
      "metadata": {
        "colab": {
          "base_uri": "https://localhost:8080/"
        },
        "id": "-7NSTwWKlUgs",
        "outputId": "1e282d5d-6569-4728-9395-2a850b334dfe"
      },
      "execution_count": 29,
      "outputs": [
        {
          "output_type": "stream",
          "name": "stdout",
          "text": [
            "Electric Tesla 75 kWh\n"
          ]
        }
      ]
    },
    {
      "cell_type": "markdown",
      "source": [
        "Ques4. Demonstrate polymorphism by creating a base class Bird with a method fly(). Create two derived classes Sparrow and Penguin that override the fly() method."
      ],
      "metadata": {
        "id": "v_ERlfebk1gJ"
      }
    },
    {
      "cell_type": "code",
      "source": [
        "class Bird:\n",
        "    def fly(self):\n",
        "        print(\"Some birds can fly.\")\n",
        "\n",
        "class Sparrow(Bird):\n",
        "    def fly(self):\n",
        "        print(\"Sparrow flies high.\")\n",
        "\n",
        "class Penguin(Bird):\n",
        "    def fly(self):\n",
        "        print(\"Penguins cannot fly.\")\n",
        "\n",
        "birds = [Sparrow(), Penguin()]\n",
        "for bird in birds:\n",
        "    bird.fly()\n"
      ],
      "metadata": {
        "colab": {
          "base_uri": "https://localhost:8080/"
        },
        "id": "lnOdVniOk4WI",
        "outputId": "0f20200d-3028-4323-e870-f0c826750607"
      },
      "execution_count": 30,
      "outputs": [
        {
          "output_type": "stream",
          "name": "stdout",
          "text": [
            "Sparrow flies high.\n",
            "Penguins cannot fly.\n"
          ]
        }
      ]
    },
    {
      "cell_type": "markdown",
      "source": [
        "Ques5. Write a program to demonstrate encapsulation by creating a class BankAccount with private attributes balance and methods to deposit, withdraw, and check balance."
      ],
      "metadata": {
        "id": "i1ytnmB3k4x-"
      }
    },
    {
      "cell_type": "code",
      "source": [
        "class BankAccount:\n",
        "    def __init__(self, initial_balance=0):\n",
        "        self.__balance = initial_balance\n",
        "\n",
        "    def deposit(self, amount):\n",
        "        self.__balance += amount\n",
        "\n",
        "    def withdraw(self, amount):\n",
        "        if amount <= self.__balance:\n",
        "            self.__balance -= amount\n",
        "        else:\n",
        "            print(\"Insufficient funds.\")\n",
        "\n",
        "    def get_balance(self):\n",
        "        return self.__balance\n",
        "\n",
        "acc = BankAccount(1000)\n",
        "acc.deposit(500)\n",
        "acc.withdraw(200)\n",
        "print(acc.get_balance())\n"
      ],
      "metadata": {
        "colab": {
          "base_uri": "https://localhost:8080/"
        },
        "id": "YXJ42jM1lxi0",
        "outputId": "bd92bc3b-04b8-4813-f25c-0d23fb282034"
      },
      "execution_count": 31,
      "outputs": [
        {
          "output_type": "stream",
          "name": "stdout",
          "text": [
            "1300\n"
          ]
        }
      ]
    },
    {
      "cell_type": "markdown",
      "source": [
        "Ques6. Demonstrate runtime polymorphism using a method play() in a base class Instrument. Derive classes Guitar and Piano that implement their own version of play()."
      ],
      "metadata": {
        "id": "IA5GAXABk_0F"
      }
    },
    {
      "cell_type": "code",
      "source": [
        "class Instrument:\n",
        "    def play(self):\n",
        "        print(\"Playing an instrument\")\n",
        "\n",
        "class Guitar(Instrument):\n",
        "    def play(self):\n",
        "        print(\"Strumming the guitar\")\n",
        "\n",
        "class Piano(Instrument):\n",
        "    def play(self):\n",
        "        print(\"Playing the piano\")\n",
        "\n",
        "for inst in [Guitar(), Piano()]:\n",
        "    inst.play()\n"
      ],
      "metadata": {
        "colab": {
          "base_uri": "https://localhost:8080/"
        },
        "id": "Dv8uRnMOl4aJ",
        "outputId": "7f03ef5b-d5db-4592-9c9d-476b72e57fac"
      },
      "execution_count": 32,
      "outputs": [
        {
          "output_type": "stream",
          "name": "stdout",
          "text": [
            "Strumming the guitar\n",
            "Playing the piano\n"
          ]
        }
      ]
    },
    {
      "cell_type": "markdown",
      "source": [
        "Ques7. Create a class MathOperations with a class method add_numbers() to add two numbers and a static method subtract_numbers() to subtract two numbers.\n"
      ],
      "metadata": {
        "id": "EyOCSH8_lJPL"
      }
    },
    {
      "cell_type": "code",
      "source": [
        "class MathOperations:\n",
        "    @classmethod\n",
        "    def add_numbers(cls, a, b):\n",
        "        return a + b\n",
        "\n",
        "    @staticmethod\n",
        "    def subtract_numbers(a, b):\n",
        "        return a - b\n",
        "\n",
        "print(MathOperations.add_numbers(10, 5))\n",
        "print(MathOperations.subtract_numbers(10, 5))\n"
      ],
      "metadata": {
        "colab": {
          "base_uri": "https://localhost:8080/"
        },
        "id": "uL3vozZvl93S",
        "outputId": "acb2fbf8-cbff-4ea1-c997-3ad8812f24fb"
      },
      "execution_count": 33,
      "outputs": [
        {
          "output_type": "stream",
          "name": "stdout",
          "text": [
            "15\n",
            "5\n"
          ]
        }
      ]
    },
    {
      "cell_type": "markdown",
      "source": [
        "Ques8. Implement a class Person with a class method to count the total number of persons created."
      ],
      "metadata": {
        "id": "qswoNjlhlKOT"
      }
    },
    {
      "cell_type": "code",
      "source": [
        "class Person:\n",
        "    count = 0\n",
        "\n",
        "    def __init__(self, name):\n",
        "        self.name = name\n",
        "        Person.count += 1\n",
        "\n",
        "    @classmethod\n",
        "    def total_persons(cls):\n",
        "        return cls.count\n",
        "\n",
        "p1 = Person(\"Alice\")\n",
        "p2 = Person(\"Bob\")\n",
        "print(Person.total_persons())\n"
      ],
      "metadata": {
        "colab": {
          "base_uri": "https://localhost:8080/"
        },
        "id": "QTMS97X1mFMM",
        "outputId": "0eae5d1a-13bd-4819-ded4-c5f7e2181c46"
      },
      "execution_count": 34,
      "outputs": [
        {
          "output_type": "stream",
          "name": "stdout",
          "text": [
            "2\n"
          ]
        }
      ]
    },
    {
      "cell_type": "markdown",
      "source": [
        "Ques9. Write a class Fraction with attributes numerator and denominator. Override the str method to display the fraction as \"numerator/denominator\"."
      ],
      "metadata": {
        "id": "IfxvXeKGmJi9"
      }
    },
    {
      "cell_type": "code",
      "source": [
        "class Fraction:\n",
        "    def __init__(self, numerator, denominator):\n",
        "        self.numerator = numerator\n",
        "        self.denominator = denominator\n",
        "\n",
        "    def __str__(self):\n",
        "        return f\"{self.numerator}/{self.denominator}\"\n",
        "\n",
        "f = Fraction(3, 4)\n",
        "print(f)\n"
      ],
      "metadata": {
        "colab": {
          "base_uri": "https://localhost:8080/"
        },
        "id": "OPwYi_kUngFV",
        "outputId": "27041274-20e2-4bed-c917-d3eadb2d2bef"
      },
      "execution_count": 35,
      "outputs": [
        {
          "output_type": "stream",
          "name": "stdout",
          "text": [
            "3/4\n"
          ]
        }
      ]
    },
    {
      "cell_type": "markdown",
      "source": [
        "Ques10. Demonstrate operator overloading by creating a class Vector and overriding the add method to add two vectors."
      ],
      "metadata": {
        "id": "sapc5Y1Lm_eS"
      }
    },
    {
      "cell_type": "code",
      "source": [
        "class Vector:\n",
        "    def __init__(self, x, y):\n",
        "        self.x = x\n",
        "        self.y = y\n",
        "\n",
        "    def __add__(self, other):\n",
        "        return Vector(self.x + other.x, self.y + other.y)\n",
        "\n",
        "    def __str__(self):\n",
        "        return f\"Vector({self.x}, {self.y})\"\n",
        "\n",
        "v1 = Vector(1, 2)\n",
        "v2 = Vector(3, 4)\n",
        "print(v1 + v2)\n"
      ],
      "metadata": {
        "colab": {
          "base_uri": "https://localhost:8080/"
        },
        "id": "pv-C5Omdnmha",
        "outputId": "ea416363-ef91-499d-c9ff-eff7f14b95e4"
      },
      "execution_count": 36,
      "outputs": [
        {
          "output_type": "stream",
          "name": "stdout",
          "text": [
            "Vector(4, 6)\n"
          ]
        }
      ]
    },
    {
      "cell_type": "markdown",
      "source": [
        "Ques11. Create a class Person with attributes name and age. Add a method greet() that prints \"Hello, my name is {name} and I am {age} years old.\""
      ],
      "metadata": {
        "id": "XISHSd1anCxT"
      }
    },
    {
      "cell_type": "code",
      "source": [
        "class Person:\n",
        "    def __init__(self, name, age):\n",
        "        self.name = name\n",
        "        self.age = age\n",
        "\n",
        "    def greet(self):\n",
        "        print(f\"Hello, my name is {self.name} and I am {self.age} years old.\")\n",
        "\n",
        "p = Person(\"Navneet\", 25)\n",
        "p.greet()\n"
      ],
      "metadata": {
        "colab": {
          "base_uri": "https://localhost:8080/"
        },
        "id": "YTt-2PuuntIH",
        "outputId": "09aeda54-7b88-468f-b840-9825d5f5d2ee"
      },
      "execution_count": 37,
      "outputs": [
        {
          "output_type": "stream",
          "name": "stdout",
          "text": [
            "Hello, my name is Navneet and I am 25 years old.\n"
          ]
        }
      ]
    },
    {
      "cell_type": "markdown",
      "source": [
        "Ques12. Implement a class Student with attributes name and grades. Create a method average_grade() to compute the average of the grades.\n"
      ],
      "metadata": {
        "id": "T_0NzhHsnKpt"
      }
    },
    {
      "cell_type": "code",
      "source": [
        "class Student:\n",
        "    def __init__(self, name, grades):\n",
        "        self.name = name\n",
        "        self.grades = grades\n",
        "\n",
        "    def average_grade(self):\n",
        "        return sum(self.grades) / len(self.grades)\n",
        "\n",
        "s = Student(\"John\", [85, 90, 78])\n",
        "print(s.average_grade())\n"
      ],
      "metadata": {
        "colab": {
          "base_uri": "https://localhost:8080/"
        },
        "id": "CdckiuuOnyk3",
        "outputId": "d7ae176c-0f6d-4a39-ecbe-7320f6f50f06"
      },
      "execution_count": 38,
      "outputs": [
        {
          "output_type": "stream",
          "name": "stdout",
          "text": [
            "84.33333333333333\n"
          ]
        }
      ]
    },
    {
      "cell_type": "markdown",
      "source": [
        "Ques13. Create a class Rectangle with methods set_dimensions() to set the dimensions and area() to calculate the area.\n"
      ],
      "metadata": {
        "id": "q4Yxm2KjnNvk"
      }
    },
    {
      "cell_type": "code",
      "source": [
        "class Rectangle:\n",
        "    def set_dimensions(self, length, width):\n",
        "        self.length = length\n",
        "        self.width = width\n",
        "\n",
        "    def area(self):\n",
        "        return self.length * self.width\n",
        "\n",
        "r = Rectangle()\n",
        "r.set_dimensions(10, 5)\n",
        "print(r.area())\n"
      ],
      "metadata": {
        "colab": {
          "base_uri": "https://localhost:8080/"
        },
        "id": "klaWU5TSn2_n",
        "outputId": "e7342af8-39bc-4464-d58f-66d255c276b2"
      },
      "execution_count": 39,
      "outputs": [
        {
          "output_type": "stream",
          "name": "stdout",
          "text": [
            "50\n"
          ]
        }
      ]
    },
    {
      "cell_type": "markdown",
      "source": [
        "Ques14. Create a class Employee with a method calculate_salary() that computes the salary based on hours worked and hourly rate. Create a derived class Manager that adds a bonus to the salary."
      ],
      "metadata": {
        "id": "PXPiaxEsnQgO"
      }
    },
    {
      "cell_type": "code",
      "source": [
        "class Employee:\n",
        "    def calculate_salary(self, hours, rate):\n",
        "        return hours * rate\n",
        "\n",
        "class Manager(Employee):\n",
        "    def calculate_salary(self, hours, rate, bonus):\n",
        "        base_salary = super().calculate_salary(hours, rate)\n",
        "        return base_salary + bonus\n",
        "\n",
        "m = Manager()\n",
        "print(m.calculate_salary(40, 50, 500))\n"
      ],
      "metadata": {
        "colab": {
          "base_uri": "https://localhost:8080/"
        },
        "id": "u3LDQ9o4n8l2",
        "outputId": "0e0638b2-2a85-4b96-e80f-2ef30f8f0aae"
      },
      "execution_count": 40,
      "outputs": [
        {
          "output_type": "stream",
          "name": "stdout",
          "text": [
            "2500\n"
          ]
        }
      ]
    },
    {
      "cell_type": "markdown",
      "source": [
        "Ques15. Create a class Product with attributes name, price, and quantity. Implement a method total_price() that calculates the total price of the product."
      ],
      "metadata": {
        "id": "-oI49D54nTLp"
      }
    },
    {
      "cell_type": "code",
      "source": [
        "class Product:\n",
        "    def __init__(self, name, price, quantity):\n",
        "        self.name = name\n",
        "        self.price = price\n",
        "        self.quantity = quantity\n",
        "\n",
        "    def total_price(self):\n",
        "        return self.price * self.quantity\n",
        "\n",
        "p = Product(\"Laptop\", 1000, 2)\n",
        "print(p.total_price())\n"
      ],
      "metadata": {
        "colab": {
          "base_uri": "https://localhost:8080/"
        },
        "id": "b0yIaa0PoB4n",
        "outputId": "1c7ee6c4-dc55-4d3b-fcb0-c524c02db248"
      },
      "execution_count": 41,
      "outputs": [
        {
          "output_type": "stream",
          "name": "stdout",
          "text": [
            "2000\n"
          ]
        }
      ]
    },
    {
      "cell_type": "markdown",
      "source": [
        "Ques16. Create a class Animal with an abstract method sound(). Create two derived classes Cow and Sheep that implement the sound() method."
      ],
      "metadata": {
        "id": "IBMUSeyQnVvQ"
      }
    },
    {
      "cell_type": "code",
      "source": [
        "from abc import ABC, abstractmethod\n",
        "\n",
        "class Animal(ABC):\n",
        "    @abstractmethod\n",
        "    def sound(self):\n",
        "        pass\n",
        "\n",
        "class Cow(Animal):\n",
        "    def sound(self):\n",
        "        print(\"Moo\")\n",
        "\n",
        "class Sheep(Animal):\n",
        "    def sound(self):\n",
        "        print(\"Baa\")\n",
        "\n",
        "a = [Cow(), Sheep()]\n",
        "for animal in a:\n",
        "    animal.sound()\n"
      ],
      "metadata": {
        "colab": {
          "base_uri": "https://localhost:8080/"
        },
        "id": "svlSb0p3oGQs",
        "outputId": "7d11a233-9056-4db7-c357-ddf4d812aac7"
      },
      "execution_count": 42,
      "outputs": [
        {
          "output_type": "stream",
          "name": "stdout",
          "text": [
            "Moo\n",
            "Baa\n"
          ]
        }
      ]
    },
    {
      "cell_type": "markdown",
      "source": [
        "Ques17. Create a class Book with attributes title, author, and year_published. Add a method get_book_info() that returns a formatted string with the book's details."
      ],
      "metadata": {
        "id": "TiCyviy3nY_Y"
      }
    },
    {
      "cell_type": "code",
      "source": [
        "class Book:\n",
        "    def __init__(self, title, author, year_published):\n",
        "        self.title = title\n",
        "        self.author = author\n",
        "        self.year = year_published\n",
        "\n",
        "    def get_book_info(self):\n",
        "        return f\"{self.title} by {self.author}, published in {self.year}\"\n",
        "\n",
        "b = Book(\"1984\", \"George Orwell\", 1949)\n",
        "print(b.get_book_info())\n"
      ],
      "metadata": {
        "colab": {
          "base_uri": "https://localhost:8080/"
        },
        "id": "ZF_gU-sooL-A",
        "outputId": "0356501f-5c38-4c0d-98a4-3a71322e98b6"
      },
      "execution_count": 43,
      "outputs": [
        {
          "output_type": "stream",
          "name": "stdout",
          "text": [
            "1984 by George Orwell, published in 1949\n"
          ]
        }
      ]
    },
    {
      "cell_type": "markdown",
      "source": [
        "Ques18. Create a class House with attributes address and price. Create a derived class Mansion that adds an attribute number_of_rooms."
      ],
      "metadata": {
        "id": "pk5q9oIQndha"
      }
    },
    {
      "cell_type": "code",
      "source": [
        "class House:\n",
        "    def __init__(self, address, price):\n",
        "        self.address = address\n",
        "        self.price = price\n",
        "\n",
        "class Mansion(House):\n",
        "    def __init__(self, address, price, number_of_rooms):\n",
        "        super().__init__(address, price)\n",
        "        self.number_of_rooms = number_of_rooms\n",
        "\n",
        "m = Mansion(\"123 Beverly Hills\", 5000000, 10)\n",
        "print(m.address, m.price, m.number_of_rooms)\n"
      ],
      "metadata": {
        "colab": {
          "base_uri": "https://localhost:8080/"
        },
        "id": "ZCwYSx5uoNwD",
        "outputId": "e82aff79-e813-4029-e036-60543c2e5b41"
      },
      "execution_count": 44,
      "outputs": [
        {
          "output_type": "stream",
          "name": "stdout",
          "text": [
            "123 Beverly Hills 5000000 10\n"
          ]
        }
      ]
    }
  ]
}