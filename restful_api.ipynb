{
  "nbformat": 4,
  "nbformat_minor": 0,
  "metadata": {
    "colab": {
      "provenance": []
    },
    "kernelspec": {
      "name": "python3",
      "display_name": "Python 3"
    },
    "language_info": {
      "name": "python"
    }
  },
  "cells": [
    {
      "cell_type": "markdown",
      "source": [
        "##***Restful API & Flask***\n"
      ],
      "metadata": {
        "id": "kKTq_hlvbvQg"
      }
    },
    {
      "cell_type": "markdown",
      "source": [
        "Ques1. What is a RESTful API?\n",
        "\n",
        "Ans. A RESTful API is an API that follows REST (Representational State Transfer) principles, using standard HTTP methods (GET, POST, PUT, DELETE) to perform CRUD operations on resources, which are represented as URLs."
      ],
      "metadata": {
        "id": "aUBfcU0kb_jS"
      }
    },
    {
      "cell_type": "markdown",
      "source": [
        "Ques2. Explain the concept of API specification.\n",
        "\n",
        "Ans. An API specification is a detailed document that defines how an API behaves. It includes endpoints, request/response formats, HTTP methods, parameters, and status codes.\n",
        "\n",
        "Tools: Swagger/OpenAPI, Postman, RAML."
      ],
      "metadata": {
        "id": "5Jk47kCScNMb"
      }
    },
    {
      "cell_type": "markdown",
      "source": [
        "Ques3. What is Flask, and why is it popular for building APIs?\n",
        "\n",
        "Ans. Flask is a lightweight Python web framework used to build web applications and APIs. It's popular because it's simple, flexible, and has many extensions."
      ],
      "metadata": {
        "id": "saPqfdFqcXB8"
      }
    },
    {
      "cell_type": "markdown",
      "source": [
        "Ques4. What is routing in Flask?\n",
        "\n",
        "Ans. Routing in Flask means mapping URLs to specific functions that handle HTTP requests."
      ],
      "metadata": {
        "id": "KC-wvb2Dcii8"
      }
    },
    {
      "cell_type": "markdown",
      "source": [
        "Ques5. How do you create a simple Flask application?\n",
        "\n",
        "Ans. Here are the simple steps to create a basic Flask application:\n",
        "\n",
        "* Install Flask using pip install flask.\n",
        "* Create a Python file (e.g., app.py).\n",
        "* Import Flask and create an app instance.\n",
        "* Define a route (e.g., for the homepage).\n",
        "* Write a function to handle requests to that route.\n",
        "* Run the application using python app.py.\n",
        "* Open your browser and go to http://127.0.0.1:5000.\n"
      ],
      "metadata": {
        "id": "vtBXd3kDcqZW"
      }
    },
    {
      "cell_type": "markdown",
      "source": [
        "Ques6. What are HTTP methods used in RESTful APIs?\n",
        "\n",
        "Ans. HTTP methods used in RESTful APIs are as:\n",
        "\n",
        "* GET – Retrieve data\n",
        "* POST – Create data\n",
        "* PUT – Update data\n",
        "* DELETE – Delete data\n",
        "* PATCH – Partial update"
      ],
      "metadata": {
        "id": "EReaQtB5c13g"
      }
    },
    {
      "cell_type": "markdown",
      "source": [
        "Ques7. What is the purpose of the @app.route() decorator in Flask?\n",
        "\n",
        "Ans. It binds a URL to a function, so when the URL is requested, the function is called."
      ],
      "metadata": {
        "id": "F5JeuNFxdLKu"
      }
    },
    {
      "cell_type": "markdown",
      "source": [
        "Ques8. What is the difference between GET and POST HTTP methods?\n",
        "\n",
        "Ans.\n",
        "* GET retrieves data and appends parameters in the URL.\n",
        "* POST submits data in the request body, often used for creating data."
      ],
      "metadata": {
        "id": "TcFJ6oShdWE8"
      }
    },
    {
      "cell_type": "markdown",
      "source": [
        "Ques9. How do you handle errors in Flask APIs?\n",
        "\n",
        "Ans. Using @app.errorhandler decorator we can handle errors in Flask APIs."
      ],
      "metadata": {
        "id": "bTbK3APqdohd"
      }
    },
    {
      "cell_type": "markdown",
      "source": [
        "10. How do you connect Flask to a SQL database?\n",
        "\n",
        "Ans. Using Flask-SQLAlchemy"
      ],
      "metadata": {
        "id": "JQbjwRBneB5B"
      }
    },
    {
      "cell_type": "markdown",
      "source": [
        "Ques11. What is the role of Flask-SQLAlchemy?\n",
        "\n",
        "Ans. It's an ORM extension for Flask that simplifies SQL database interactions."
      ],
      "metadata": {
        "id": "5B_ogJVZeSCE"
      }
    },
    {
      "cell_type": "markdown",
      "source": [
        "Ques12. What are Flask blueprints, and how are they useful?\n",
        "\n",
        "Ans. Blueprints let you organize app components into modules."
      ],
      "metadata": {
        "id": "_UC1jITnebfV"
      }
    },
    {
      "cell_type": "markdown",
      "source": [
        "Ques13. What is the purpose of Flask's request object?\n",
        "\n",
        "Ans. request holds incoming request data like form values, headers, and JSON."
      ],
      "metadata": {
        "id": "0MtAe8jqenYE"
      }
    },
    {
      "cell_type": "markdown",
      "source": [
        "Ques14. How do you create a RESTful API endpoint using Flask?"
      ],
      "metadata": {
        "id": "p1WWsV7ZexQP"
      }
    },
    {
      "cell_type": "code",
      "source": [
        "@app.route('/api/users', methods=['GET'])\n",
        "def get_users():\n",
        "    return jsonify({'users': ['Alice', 'Bob']})\n"
      ],
      "metadata": {
        "id": "OM0dv0cNe7ZQ"
      },
      "execution_count": 26,
      "outputs": []
    },
    {
      "cell_type": "markdown",
      "source": [
        "Ques15. What is the purpose of Flask's jsonify() function?\n",
        "\n",
        "Ans. jsonify() returns a JSON response from a Python dictionary."
      ],
      "metadata": {
        "id": "-9kB7GsYfDNP"
      }
    },
    {
      "cell_type": "markdown",
      "source": [
        "Ques16. Explain Flask’s url_for() function.\n",
        "\n",
        "Ans. It dynamically builds URLs for a given function name."
      ],
      "metadata": {
        "id": "-z19dKESfQm9"
      }
    },
    {
      "cell_type": "markdown",
      "source": [
        "Ques17. How does Flask handle static files (CSS, JavaScript, etc.)?\n",
        "\n",
        "Ans. Flask serves static files from the /static folder."
      ],
      "metadata": {
        "id": "Hs4mFeWkfXTy"
      }
    },
    {
      "cell_type": "markdown",
      "source": [
        "Ques18. What is an API specification, and how does it help in building a Flask API?\n",
        "\n",
        "Ans. It documents API structure, which improves communication, testing, and code generation.\n",
        "\n",
        "Example tool: Swagger UI to visualize OpenAPI specs."
      ],
      "metadata": {
        "id": "GObMht6QfhXb"
      }
    },
    {
      "cell_type": "markdown",
      "source": [
        "Ques19. What are HTTP status codes, and why are they important in a Flask API?\n",
        "\n",
        "Ans. They indicate the result of an HTTP request (e.g., 200 OK, 404 Not Found, 500 Server Error)."
      ],
      "metadata": {
        "id": "shszhRryfo1J"
      }
    },
    {
      "cell_type": "markdown",
      "source": [
        "Ques20. How do you handle POST requests in Flask?\n",
        "\n",
        "Ans.Flask handles POST requests using the @app.route() decorator with methods=['POST'], and you can access form data with request.form.\n",
        "\n",
        "---\n",
        "\n",
        "\n"
      ],
      "metadata": {
        "id": "oWUKkb0kfxDE"
      }
    },
    {
      "cell_type": "markdown",
      "source": [
        "21. How would you secure a Flask API?\n",
        "\n",
        "Ans.\n",
        "* Use HTTPS\n",
        "* Authentication (Token-based, OAuth)\n",
        "* Input validation\n",
        "* Rate limiting\n",
        "* Use Flask-JWT, Flask-Login, or Flask-HTTPAuth"
      ],
      "metadata": {
        "id": "kSkNauH6gHYB"
      }
    },
    {
      "cell_type": "markdown",
      "source": [
        "Ques22. What is the significance of the Flask-RESTful extension?\n",
        "\n",
        "Ans. It simplifies creating REST APIs by organizing resources with classes and adding request parsing."
      ],
      "metadata": {
        "id": "7Zg6qIfagRuM"
      }
    },
    {
      "cell_type": "markdown",
      "source": [
        "Ques23. What is the role of Flask’s session object?\n",
        "\n",
        "Ans. It stores data per user session using cookies (signed cryptographically)."
      ],
      "metadata": {
        "id": "dOAT_7rYgY_M"
      }
    },
    {
      "cell_type": "markdown",
      "source": [
        "#***Practical***"
      ],
      "metadata": {
        "id": "nYkwJ48ZgjqG"
      }
    },
    {
      "cell_type": "markdown",
      "source": [
        "Ques1. How do you create a basic Flask application?\n",
        "\n",
        "Ans.Here are the steps to create a basic Flask application:\n",
        "\n",
        "* Install Flask using pip install flask.\n",
        "* Create a new Python file (e.g., app.py).\n",
        "* Import Flask and create an app instance.\n",
        "* Define one or more routes using @app.route().\n",
        "* Add functions to handle each route.\n",
        "* Run the application using python app.py.\n",
        "* Visit http://127.0.0.1:5000 in your web browser to see it working\n"
      ],
      "metadata": {
        "id": "Y88cgOO4gq-l"
      }
    },
    {
      "cell_type": "markdown",
      "source": [
        "Ques2. How do you serve static files like images or CSS in Flask?\n",
        "\n",
        "Ans. Flask serves static files from the static/ folder automatically.\n",
        "\n",
        "Directory structure:"
      ],
      "metadata": {
        "id": "YpuPd1RhhIhq"
      }
    },
    {
      "cell_type": "code",
      "source": [
        "from flask import Flask, render_template\n",
        "\n",
        "app = Flask(__name__)\n",
        "\n",
        "@app.route('/')\n",
        "def index():\n",
        "    return render_template('index.html')\n"
      ],
      "metadata": {
        "id": "wmBFa3mntiuh"
      },
      "execution_count": 45,
      "outputs": []
    },
    {
      "cell_type": "markdown",
      "source": [
        "Ques3. How do you define different routes with different HTTP methods in Flask?"
      ],
      "metadata": {
        "id": "O2j34E3KiAZ7"
      }
    },
    {
      "cell_type": "code",
      "source": [
        "@app.route('/user', methods=['GET', 'POST'])\n",
        "def user():\n",
        "    if request.method == 'POST':\n",
        "        return 'Creating user...'\n",
        "    return 'Fetching user info...'\n"
      ],
      "metadata": {
        "id": "YT0czrRgiITw"
      },
      "execution_count": 28,
      "outputs": []
    },
    {
      "cell_type": "markdown",
      "source": [
        "Ques4. How do you render HTML templates in Flask?\n",
        "\n",
        "Ans. Place your HTML files in a folder named templates."
      ],
      "metadata": {
        "id": "sWAxVixoiLdV"
      }
    },
    {
      "cell_type": "code",
      "source": [
        "from flask import render_template\n",
        "\n",
        "@app.route('/hello')\n",
        "def hello():\n",
        "    return render_template('hello.html', name='Navneet')\n"
      ],
      "metadata": {
        "id": "F9clnQUYibaA"
      },
      "execution_count": 29,
      "outputs": []
    },
    {
      "cell_type": "markdown",
      "source": [
        "Ques5. How can you generate URLs for routes in Flask using url_for()?\n"
      ],
      "metadata": {
        "id": "2QKowhrJie2M"
      }
    },
    {
      "cell_type": "code",
      "source": [
        "@app.route('/dashboard')\n",
        "def dashboard():\n",
        "    return 'Dashboard'\n",
        "\n",
        "@app.route('/goto-dashboard')\n",
        "def go_to_dashboard():\n",
        "    return redirect(url_for('dashboard'))\n"
      ],
      "metadata": {
        "id": "8hV8_-r3imY5"
      },
      "execution_count": 30,
      "outputs": []
    },
    {
      "cell_type": "markdown",
      "source": [
        "Ques6. How do you handle forms in Flask?\n"
      ],
      "metadata": {
        "id": "Jb2f5deuiqhW"
      }
    },
    {
      "cell_type": "code",
      "source": [
        "@app.route('/form', methods=['GET', 'POST'])\n",
        "def form():\n",
        "    if request.method == 'POST':\n",
        "        name = request.form['name']\n",
        "        return f'Hello, {name}!'\n",
        "    return '''\n",
        "        <form method=\"POST\">\n",
        "            Name: <input type=\"text\" name=\"name\">\n",
        "            <input type=\"submit\">\n",
        "        </form>\n",
        "    '''\n"
      ],
      "metadata": {
        "id": "nWm49RUBizPb"
      },
      "execution_count": 31,
      "outputs": []
    },
    {
      "cell_type": "markdown",
      "source": [
        "Ques7. How can you validate form data in Flask?\n",
        "\n",
        "Ans. Use WTForms with Flask-WTF."
      ],
      "metadata": {
        "id": "5YU6Bt-yi5fj"
      }
    },
    {
      "cell_type": "code",
      "source": [
        "from flask_wtf import FlaskForm\n",
        "from wtforms import StringField\n",
        "from wtforms.validators import DataRequired\n",
        "\n",
        "class MyForm(FlaskForm):\n",
        "    name = StringField('Name', validators=[DataRequired()])\n"
      ],
      "metadata": {
        "id": "GkFn7XhOi934"
      },
      "execution_count": 44,
      "outputs": []
    },
    {
      "cell_type": "markdown",
      "source": [
        "Ques8. How do you manage sessions in Flask?"
      ],
      "metadata": {
        "id": "wE1qChS9jBfO"
      }
    },
    {
      "cell_type": "code",
      "source": [
        "from flask import session\n",
        "\n",
        "app.secret_key = 'mysecret'\n",
        "\n",
        "@app.route('/login')\n",
        "def login():\n",
        "    session['user'] = 'Navneet'\n",
        "    return 'Logged in!'\n",
        "\n",
        "@app.route('/logout')\n",
        "def logout():\n",
        "    session.pop('user', None)\n",
        "    return 'Logged out!'\n"
      ],
      "metadata": {
        "id": "xXeNSdnpjGat"
      },
      "execution_count": 41,
      "outputs": []
    },
    {
      "cell_type": "markdown",
      "source": [
        "Ques9. How do you redirect to a different route in Flask?"
      ],
      "metadata": {
        "id": "i-CxsSynjLNB"
      }
    },
    {
      "cell_type": "code",
      "source": [
        "from flask import redirect, url_for\n",
        "\n",
        "@app.route('/home')\n",
        "def home_page():\n",
        "    return 'Home Page'\n",
        "\n",
        "@app.route('/go-home')\n",
        "def go_to_home_page():\n",
        "    return redirect(url_for('home'))\n"
      ],
      "metadata": {
        "id": "HIeinH5UjPZ_"
      },
      "execution_count": 40,
      "outputs": []
    },
    {
      "cell_type": "markdown",
      "source": [
        "Ques10. How do you handle errors in Flask (e.g., 404)?"
      ],
      "metadata": {
        "id": "Pq5SH5ByjTIe"
      }
    },
    {
      "cell_type": "code",
      "source": [
        "@app.errorhandler(404)\n",
        "def not_found(e):\n",
        "    return render_template('404.html'), 404\n"
      ],
      "metadata": {
        "id": "dtj72QeajWvH"
      },
      "execution_count": 38,
      "outputs": []
    },
    {
      "cell_type": "markdown",
      "source": [
        "Ques11. How do you structure a Flask app using Blueprints?"
      ],
      "metadata": {
        "id": "zlWEwN3MjY4s"
      }
    },
    {
      "cell_type": "code",
      "source": [
        "from flask import Blueprint\n",
        "\n",
        "users = Blueprint('users', __name__)\n",
        "\n",
        "@users.route('/profile')\n",
        "def profile():\n",
        "    return 'User profile'\n"
      ],
      "metadata": {
        "id": "N-o4ISIojd4U"
      },
      "execution_count": 37,
      "outputs": []
    },
    {
      "cell_type": "markdown",
      "source": [
        "Ques12. How do you define a custom Jinja filter in Flask?\n"
      ],
      "metadata": {
        "id": "Eg7QceNujhh6"
      }
    },
    {
      "cell_type": "code",
      "source": [
        "@app.template_filter('reverse')\n",
        "def reverse_filter(s):\n",
        "    return s[::-1]\n",
        "\n",
        "# In template: {{ 'Navneet' | reverse }}  -> 'teenvaN'\n"
      ],
      "metadata": {
        "id": "RWzF6iXsjp31"
      },
      "execution_count": 36,
      "outputs": []
    },
    {
      "cell_type": "markdown",
      "source": [
        "Ques13. How can you redirect with query parameters in Flask?"
      ],
      "metadata": {
        "id": "xLMwTK62ju_V"
      }
    },
    {
      "cell_type": "code",
      "source": [
        "@app.route('/search')\n",
        "def search():\n",
        "    return redirect(url_for('results', q='flask'))\n",
        "\n",
        "@app.route('/results')\n",
        "def results():\n",
        "    query = request.args.get('q')\n",
        "    return f'Searching for {query}'\n"
      ],
      "metadata": {
        "id": "ZqPhUqg7jxHv"
      },
      "execution_count": 35,
      "outputs": []
    },
    {
      "cell_type": "markdown",
      "source": [
        "Ques14. How do you return JSON responses in Flask?"
      ],
      "metadata": {
        "id": "FG02SGTtj1S7"
      }
    },
    {
      "cell_type": "code",
      "source": [
        "from flask import jsonify\n",
        "\n",
        "@app.route('/api')\n",
        "def api():\n",
        "    return jsonify({'name': 'Navneet', 'role': 'developer'})\n"
      ],
      "metadata": {
        "id": "n7OGLj5cj52V"
      },
      "execution_count": 34,
      "outputs": []
    },
    {
      "cell_type": "markdown",
      "source": [
        "Ques15. How do you capture URL parameters in Flask?"
      ],
      "metadata": {
        "id": "atlnFiMLj-CN"
      }
    },
    {
      "cell_type": "code",
      "source": [
        "@app.route('/user/<username>')\n",
        "def user_profile(username):\n",
        "    return f'Hello {username}!'\n"
      ],
      "metadata": {
        "id": "hkrGSFUjkKU-"
      },
      "execution_count": 33,
      "outputs": []
    }
  ]
}