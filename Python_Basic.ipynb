{
  "nbformat": 4,
  "nbformat_minor": 0,
  "metadata": {
    "colab": {
      "provenance": []
    },
    "kernelspec": {
      "name": "python3",
      "display_name": "Python 3"
    },
    "language_info": {
      "name": "python"
    }
  },
  "cells": [
    {
      "cell_type": "markdown",
      "source": [
        "# Assignment 01 (Python Basic)\n"
      ],
      "metadata": {
        "id": "f_x8rvJB-_sW"
      }
    },
    {
      "cell_type": "markdown",
      "source": [
        "Ques1: Explain the key features of Python that make it a popular choice\n",
        "      for programming.\n",
        "\n",
        "Ans: Python is one of the most popular programming languages today, and that's largely due to a combination of features that make it versatile, beginner-friendly, and powerful. Here are some key features that make Python so widely used:\n",
        "\n",
        "1. Easy to read and write.\n",
        "2. standard library.\n",
        "3. High level language.\n",
        "4. interpreted language"
      ],
      "metadata": {
        "id": "itkqATar_JVk"
      }
    },
    {
      "cell_type": "markdown",
      "source": [
        "Ques2: Describe the role of predefined keywords in Python and provide examples of how they are used in a program.\n",
        "\n",
        "Ans: Predefined keywords in Python play a crucial role because they are reserved words that have special meaning in the language. You cannot use them as variable names, function names, or identifiers because Python uses them to define its syntax and structure.\n",
        "\n",
        "1. Define Control Flow – Keywords like if, else, while, and for control how the program executes.\n",
        "2. Declare Functions and Classes – def and class are used to define functions and classes.\n",
        "3.Handle Exceptions – try, except, finally are used for error handling.\n",
        "4. Work with Logical Operations – and, or, not are used for logical expressions."
      ],
      "metadata": {
        "id": "sWX8r4g4_6jg"
      }
    },
    {
      "cell_type": "code",
      "source": [
        "# if-else:\n",
        "x = 10\n",
        "if x > 5:\n",
        "    print(\"x is greater than 5\")\n",
        "else:\n",
        "    print(\"x is 5 or less\")\n",
        "\n",
        "# for loop\n",
        "for i in range(3):\n",
        "    print(\"Number\", i)"
      ],
      "metadata": {
        "colab": {
          "base_uri": "https://localhost:8080/"
        },
        "id": "oLvgIlnAAaq2",
        "outputId": "6375a82c-90f9-4bbf-ae42-a789e3353c0c"
      },
      "execution_count": 2,
      "outputs": [
        {
          "output_type": "stream",
          "name": "stdout",
          "text": [
            "x is greater than 5\n",
            "Number 0\n",
            "Number 1\n",
            "Number 2\n"
          ]
        }
      ]
    },
    {
      "cell_type": "markdown",
      "source": [
        " Ques3: Compare and contrast mutable and immutable objects in Python with examples.\n",
        "\n",
        "  Ans: Mutable object:  A mutable object is an object whose state or\n",
        "      content can be changed after it is created.\n",
        "  ex: List, dict, set.\n",
        "   \n",
        "   Immutable objects: An immutable object is an object whose state or content cannot be changed after it is created.\n",
        "   ex: Tuple, string, int, float, bool.\n",
        "\n",
        "\n",
        "\n",
        "\n",
        "\n"
      ],
      "metadata": {
        "id": "PouSg0H1Apk_"
      }
    },
    {
      "cell_type": "code",
      "source": [
        "# mutable ex:\n",
        "my_list = [1, 2, 3]\n",
        "my_list.append(4)\n",
        "print(my_list)\n",
        "\n",
        "# immutable ex:\n",
        "my_tuple = (10, 20, 30)\n",
        "# my_tuple[1] = 99    # it will give the error\n",
        "\n"
      ],
      "metadata": {
        "colab": {
          "base_uri": "https://localhost:8080/"
        },
        "id": "7nC8D79MCEX8",
        "outputId": "5bcfe039-52a5-42e8-d02f-b6cba9959f67"
      },
      "execution_count": 6,
      "outputs": [
        {
          "output_type": "stream",
          "name": "stdout",
          "text": [
            "[1, 2, 3, 4]\n"
          ]
        }
      ]
    },
    {
      "cell_type": "markdown",
      "source": [
        "Ques4: Discuss the different types of operators in Python and provide examples of how they are used.\n",
        "\n",
        "Ans: Python has several types of operators, each serving different purposes.\n",
        "1. Arithmetic Operators: These operators are used to perform basic arithmetic calculations like addition, subtraction, multiplication, etc.\n",
        "2. Assignment Operators: These operators are used to assign values to variables, and they can also combine assignment with an operation\n",
        "3. Comparison Operators: These operators are used to compare two values. They return a boolean value.\n",
        "4. Logical Operators: These operators are used to combine multiple conditional statements and return True or False.\n",
        "5. Bitwise Operators: Bitwise operators perform operations on bits (0s and 1s). These are typically used with integer values.\n",
        "6. Membership Operator: Membership operators check if a value is present in a sequence or not.\n"
      ],
      "metadata": {
        "id": "g3i0hR2uDF-g"
      }
    },
    {
      "cell_type": "markdown",
      "source": [],
      "metadata": {
        "id": "UNTvhiSdC8-N"
      }
    },
    {
      "cell_type": "code",
      "source": [
        "print(\"Arithmetic Operators example:\")\n",
        "\n",
        "# Arithmetic Operators\n",
        "a = 10\n",
        "b = 3\n",
        "\n",
        "print(a + b)\n",
        "print(a - b)\n",
        "print(a * b)\n",
        "print(a / b)\n",
        "print(a // b)\n",
        "print(a % b)\n",
        "print(a ** b)\n",
        "\n",
        "print(\"\\nAssignment Operators example:\")\n",
        "\n",
        "# Assignment Operators\n",
        "x = 5\n",
        "x += 2\n",
        "print(x)\n",
        "x -= 3\n",
        "print(x)\n",
        "x *= 3\n",
        "print(x)\n",
        "x **= 2\n",
        "print(x)\n",
        "\n",
        "# Comparison Operators\n",
        "print(\"\\nComparison operator example:\")\n",
        "x = 5\n",
        "y = 10\n",
        "print(x == y)\n",
        "print(x != y)\n",
        "print(x > y)\n",
        "print(x < y)\n",
        "print(x >= y)\n",
        "print(x <= y)\n",
        "\n",
        "print(\"\\nLogical Operator example:\")\n",
        "# Logical Operators\n",
        "x = 5\n",
        "y = 10\n",
        "print(x > 3 and y < 15)\n",
        "print(x > 3 or y > 15)\n",
        "print(not (x > 3))\n",
        "\n",
        "print(\"\\nBitwise opeartors example:\")\n",
        "# Bitwise Operators\n",
        "x = 10\n",
        "y = 4\n",
        "print(x & y)\n",
        "print(x | y)\n",
        "print(x ^ y)\n",
        "print(~x)\n",
        "print(x << 1)\n",
        "print(x >> 1)\n",
        "\n",
        "print(\"\\n Membership Operators example:\")\n",
        "\n",
        "# Membership Operators\n",
        "a = [1, 2, 3, 4, 5]\n",
        "print(3 in a)\n",
        "print(6 not in a)\n",
        "s = \"hello\"\n",
        "print('h' in s)\n",
        "print('z' not in s)\n"
      ],
      "metadata": {
        "colab": {
          "base_uri": "https://localhost:8080/"
        },
        "id": "sTFlqbC0E9Hr",
        "outputId": "61b3f9ac-475e-418b-9b41-1556d6bd51f6"
      },
      "execution_count": 16,
      "outputs": [
        {
          "output_type": "stream",
          "name": "stdout",
          "text": [
            "Arithmetic Operators example:\n",
            "13\n",
            "7\n",
            "30\n",
            "3.3333333333333335\n",
            "3\n",
            "1\n",
            "1000\n",
            "\n",
            "Assignment Operators example:\n",
            "7\n",
            "4\n",
            "12\n",
            "144\n",
            "\n",
            "Comparison operator example:\n",
            "False\n",
            "True\n",
            "False\n",
            "True\n",
            "False\n",
            "True\n",
            "\n",
            "Logical Operator example:\n",
            "True\n",
            "True\n",
            "False\n",
            "\n",
            "Bitwise opeartors example:\n",
            "0\n",
            "14\n",
            "14\n",
            "-11\n",
            "20\n",
            "5\n",
            "\n",
            " Membership Operators example:\n",
            "True\n",
            "True\n",
            "True\n",
            "True\n"
          ]
        }
      ]
    },
    {
      "cell_type": "markdown",
      "source": [
        "Ques5: Explain the concept of type casting in Python with examples.\n",
        "\n",
        "Ans. Type casting (or type conversion) in Python means converting a variable from one data type to another. Python supports two types of casting:\n",
        "\n",
        "1. Implicit Type Casting: done automatically by Python.\n",
        "\n",
        "2. Explicit Type Casting: done manually by the programmer.\n"
      ],
      "metadata": {
        "id": "6dZyw7CuJghU"
      }
    },
    {
      "cell_type": "code",
      "source": [
        "# Implicit type casting:\n",
        "a = 5\n",
        "b = 2.0\n",
        "result = a + b  # Python converts `a` to float automatically\n",
        "print(result)\n",
        "print(type(result))\n",
        "\n",
        "# Explicit type casting:\n",
        "\n",
        "x = \"10\"\n",
        "y = int(x)\n",
        "print(y + 5)\n",
        "\n",
        "a = 9.8\n",
        "b = int(a)  # Float to int\n",
        "print(b)"
      ],
      "metadata": {
        "colab": {
          "base_uri": "https://localhost:8080/"
        },
        "id": "nWdSbg4IK2ab",
        "outputId": "8e0f0de3-67de-4353-9d36-fa9a01a89302"
      },
      "execution_count": 19,
      "outputs": [
        {
          "output_type": "stream",
          "name": "stdout",
          "text": [
            "7.0\n",
            "<class 'float'>\n",
            "15\n",
            "9\n"
          ]
        }
      ]
    },
    {
      "cell_type": "markdown",
      "source": [
        "Ques6: How do conditional statements work in Python? Illustrate with examples.\n",
        "\n",
        "Ans: Conditional statements let you execute certain blocks of code only if specific conditions are true. It's how you make decisions in your program.\n"
      ],
      "metadata": {
        "id": "h5KWlPZK-iRE"
      }
    },
    {
      "cell_type": "code",
      "source": [
        "# if-else :\n",
        "age = 16\n",
        "\n",
        "if age >= 18:\n",
        "    print(\"You can vote.\")\n",
        "else:\n",
        "    print(\"You are too young to vote.\")\n",
        "\n",
        "\n",
        " # if-elif :\n",
        "marks = 75\n",
        "\n",
        "if marks >= 90:\n",
        "    print(\"Grade: A\")\n",
        "elif marks >= 75:\n",
        "    print(\"Grade: B\")\n",
        "elif marks >= 60:\n",
        "    print(\"Grade: C\")\n",
        "else:\n",
        "    print(\"Grade: F\")\n",
        "\n"
      ],
      "metadata": {
        "colab": {
          "base_uri": "https://localhost:8080/"
        },
        "id": "kGm8zfK0MB_a",
        "outputId": "12444a4a-ec1d-4bdf-ec8b-29c001b87111"
      },
      "execution_count": 22,
      "outputs": [
        {
          "output_type": "stream",
          "name": "stdout",
          "text": [
            "You are too young to vote.\n",
            "Grade: B\n"
          ]
        }
      ]
    },
    {
      "cell_type": "markdown",
      "source": [
        "Ques7: Describe the different types of loops in Python and their use cases with examples.\n",
        "\n",
        "Ans: Python mainly has two types of loops:\n",
        "\n",
        "for loop: Used when you want to iterate over a sequence (like a list, string, or range).\n",
        "\n",
        "use case:\n",
        "1. Looping through lists, strings, dictionaries\n",
        "\n",
        "2. When you know the number of iterations\n",
        "\n",
        "while loop: Used when you want to repeat a block as long as a condition is True.\n",
        "\n",
        "use case:\n",
        "1. Repeating actions until a user quits\n",
        "\n",
        "2. Waiting for a condition to change\n",
        "\n",
        "3. Games, input validation, etc.\n",
        "\n"
      ],
      "metadata": {
        "id": "JVbE5XHRMlI0"
      }
    },
    {
      "cell_type": "code",
      "source": [
        "# for loop example.\n",
        "print(\"for loop example:\")\n",
        "fruits = [\"apple\", \"banana\", \"cherry\"]\n",
        "\n",
        "for fruit in fruits:\n",
        "    print(fruit)\n",
        "\n",
        "# while loop example.\n",
        "print(\"\\nWhile loop example:\")\n",
        "count = 0\n",
        "while count < 5:\n",
        "    print(\"Count is:\", count)\n",
        "    count += 1\n"
      ],
      "metadata": {
        "colab": {
          "base_uri": "https://localhost:8080/"
        },
        "id": "PvF9gJrgNu7C",
        "outputId": "ad11c992-cdb2-491b-d422-cebaff2b9216"
      },
      "execution_count": 26,
      "outputs": [
        {
          "output_type": "stream",
          "name": "stdout",
          "text": [
            "for loop example:\n",
            "apple\n",
            "banana\n",
            "cherry\n",
            "\n",
            "While loop example:\n",
            "Count is: 0\n",
            "Count is: 1\n",
            "Count is: 2\n",
            "Count is: 3\n",
            "Count is: 4\n"
          ]
        }
      ]
    }
  ]
}