{
  "nbformat": 4,
  "nbformat_minor": 0,
  "metadata": {
    "colab": {
      "provenance": []
    },
    "kernelspec": {
      "name": "python3",
      "display_name": "Python 3"
    },
    "language_info": {
      "name": "python"
    }
  },
  "cells": [
    {
      "cell_type": "markdown",
      "source": [
        "# ***# Files, exceptional handling, logging and memory management Questions***"
      ],
      "metadata": {
        "id": "xD-5OXY8MZPz"
      }
    },
    {
      "cell_type": "markdown",
      "source": [
        "Ques1. What is the difference between interpreted and compiled languages?.\n",
        "\n",
        "Ans.\n",
        "1. Interpreted Languages: Execute code line-by-line (e.g., Python, JavaScript).\n",
        "2. Compiled Languages: Convert code into machine language before execution (e.g., C, C++)."
      ],
      "metadata": {
        "id": "jxZOTX1tMQ8J"
      }
    },
    {
      "cell_type": "code",
      "source": [
        "print(\"Hello, World!\")  # Executed line by line\n"
      ],
      "metadata": {
        "colab": {
          "base_uri": "https://localhost:8080/"
        },
        "id": "D-Q-T0-bM7_k",
        "outputId": "82107673-eca9-4643-ff1a-5304fb27760b"
      },
      "execution_count": 2,
      "outputs": [
        {
          "output_type": "stream",
          "name": "stdout",
          "text": [
            "Hello, World!\n"
          ]
        }
      ]
    },
    {
      "cell_type": "markdown",
      "source": [
        "Ques2. What is exception handling in Python?\n",
        "\n",
        "Ans.  Exception handling allows you to catch and handle runtime errors to prevent crashes."
      ],
      "metadata": {
        "id": "91pzRgllNAPx"
      }
    },
    {
      "cell_type": "code",
      "source": [
        "try:\n",
        "    x = 10 / 0\n",
        "except ZeroDivisionError:\n",
        "    print(\"Cannot divide by zero.\")\n"
      ],
      "metadata": {
        "colab": {
          "base_uri": "https://localhost:8080/"
        },
        "id": "YPmZKajLNR3Q",
        "outputId": "aa76101d-bb0d-48fe-82d8-d8e2baddb70e"
      },
      "execution_count": 3,
      "outputs": [
        {
          "output_type": "stream",
          "name": "stdout",
          "text": [
            "Cannot divide by zero.\n"
          ]
        }
      ]
    },
    {
      "cell_type": "markdown",
      "source": [
        "Ques3. What is the purpose of the finally block in exception handling?\n",
        "\n",
        "Ans. It always executes whether or not an exception occurred, used for cleanup."
      ],
      "metadata": {
        "id": "JLmL9vlONUCl"
      }
    },
    {
      "cell_type": "code",
      "source": [
        "try:\n",
        "    file = open(\"example.txt\", \"r\")\n",
        "except FileNotFoundError:\n",
        "    print(\"File not found.\")\n",
        "finally:\n",
        "    print(\"Execution complete.\")\n"
      ],
      "metadata": {
        "colab": {
          "base_uri": "https://localhost:8080/"
        },
        "id": "vNPUFBH2NeaD",
        "outputId": "2aa7db05-fe42-4532-8a91-ce9553ec3c35"
      },
      "execution_count": 4,
      "outputs": [
        {
          "output_type": "stream",
          "name": "stdout",
          "text": [
            "File not found.\n",
            "Execution complete.\n"
          ]
        }
      ]
    },
    {
      "cell_type": "markdown",
      "source": [
        "Ques4. What is logging in Python?\n",
        "\n",
        "Ans. Logging records events during program execution for debugging or auditing."
      ],
      "metadata": {
        "id": "w2llG4m4NlKV"
      }
    },
    {
      "cell_type": "code",
      "source": [
        "import logging\n",
        "logging.basicConfig(level=logging.INFO)\n",
        "logging.info(\"This is an info message.\")\n"
      ],
      "metadata": {
        "id": "CMf44MWpNtpG"
      },
      "execution_count": 5,
      "outputs": []
    },
    {
      "cell_type": "markdown",
      "source": [
        "Ques5. What is the significance of the __del__ method in Python?\n",
        "\n",
        "Ans. It is called when an object is about to be destroyed (destructor)."
      ],
      "metadata": {
        "id": "UzPm0G-IN_C6"
      }
    },
    {
      "cell_type": "code",
      "source": [
        "class MyClass:\n",
        "    def __del__(self):\n",
        "        print(\"Object is being deleted.\")\n",
        "\n",
        "obj = MyClass()\n",
        "del obj\n"
      ],
      "metadata": {
        "colab": {
          "base_uri": "https://localhost:8080/"
        },
        "id": "AUqkSnhzOD66",
        "outputId": "58da50a8-f12d-4674-9e1e-83d7e039b036"
      },
      "execution_count": 6,
      "outputs": [
        {
          "output_type": "stream",
          "name": "stdout",
          "text": [
            "Object is being deleted.\n"
          ]
        }
      ]
    },
    {
      "cell_type": "markdown",
      "source": [
        "ques6. What is the difference between import and from ... import in Python?\n",
        "\n",
        "Ans.\n",
        "1. import module: Access functions with module.function().\n",
        "2. from module import function: Call function directly."
      ],
      "metadata": {
        "id": "PvAfdgRUOG4b"
      }
    },
    {
      "cell_type": "code",
      "source": [
        "import math\n",
        "print(math.sqrt(16))  # using module name\n",
        "\n",
        "from math import sqrt\n",
        "print(sqrt(16))       # directly\n"
      ],
      "metadata": {
        "colab": {
          "base_uri": "https://localhost:8080/"
        },
        "id": "OgKiL5CQOVto",
        "outputId": "341ff06e-7088-4cbb-fcdc-07930cb1e847"
      },
      "execution_count": 7,
      "outputs": [
        {
          "output_type": "stream",
          "name": "stdout",
          "text": [
            "4.0\n",
            "4.0\n"
          ]
        }
      ]
    },
    {
      "cell_type": "markdown",
      "source": [
        "Ques7. How can you handle multiple exceptions in Python?\n",
        "\n",
        "Ans. Use multiple except blocks or a tuple."
      ],
      "metadata": {
        "id": "ne2UqYapOdEy"
      }
    },
    {
      "cell_type": "code",
      "source": [
        "try:\n",
        "    x = int(\"abc\")\n",
        "except (ValueError, TypeError) as e:\n",
        "    print(\"Handled:\", e)\n"
      ],
      "metadata": {
        "colab": {
          "base_uri": "https://localhost:8080/"
        },
        "id": "MyVazIR0OhlE",
        "outputId": "72f176ea-494e-4b15-92e6-04965ba23b3a"
      },
      "execution_count": 8,
      "outputs": [
        {
          "output_type": "stream",
          "name": "stdout",
          "text": [
            "Handled: invalid literal for int() with base 10: 'abc'\n"
          ]
        }
      ]
    },
    {
      "cell_type": "markdown",
      "source": [
        "Ques8. What is the purpose of the with statement when handling files in Python?\n",
        "\n",
        "Ans. It automatically closes the file after the block, even if an error occurs."
      ],
      "metadata": {
        "id": "LK5UfTImOlzO"
      }
    },
    {
      "cell_type": "markdown",
      "source": [
        "Ques9. What is the difference between multithreading and multiprocessing?\n",
        "\n",
        "Ans.\n",
        "1. Multithreading: Multiple threads in a single process (shared memory).\n",
        "2. Multiprocessing: Multiple processes (separate memory spaces)."
      ],
      "metadata": {
        "id": "kJ4olH7OO4xk"
      }
    },
    {
      "cell_type": "code",
      "source": [
        "# Multithreading\n",
        "from threading import Thread\n",
        "\n",
        "def func():\n",
        "    print(\"Thread running\")\n",
        "\n",
        "t = Thread(target=func)\n",
        "t.start()\n"
      ],
      "metadata": {
        "colab": {
          "base_uri": "https://localhost:8080/"
        },
        "id": "hPHKPz6-PAXU",
        "outputId": "40ff85e5-725d-477e-fb23-0639b5fa7633"
      },
      "execution_count": 10,
      "outputs": [
        {
          "output_type": "stream",
          "name": "stdout",
          "text": [
            "Thread running\n"
          ]
        }
      ]
    },
    {
      "cell_type": "markdown",
      "source": [
        "Ques10. What are the advantages of using logging in a program?\n",
        "\n",
        "Ans. Advantages of using logging are as follows:\n",
        "\n",
        "1. Tracks execution flow\n",
        "2. Helps in debugging\n",
        "3. Allows logging to files"
      ],
      "metadata": {
        "id": "ajfELRWfPJHO"
      }
    },
    {
      "cell_type": "markdown",
      "source": [
        "Ques11. What is memory management in Python?\n",
        "\n",
        "Ans. Memory management includes allocation, reuse, and cleanup of memory using:\n",
        "\n",
        "* Private heap\n",
        "* Garbage collector"
      ],
      "metadata": {
        "id": "H1uA1qTVPYEn"
      }
    },
    {
      "cell_type": "markdown",
      "source": [
        "Ques12. What are the basic steps involved in exception handling in Python?\n",
        "\n",
        "Ans. Steps involved in exception handling in Python are as following:\n",
        "\n",
        "* Use try to write risky code.\n",
        "* Catch errors using except.\n",
        "* Optionally use else and finally."
      ],
      "metadata": {
        "id": "DK6iuXU6PpC-"
      }
    },
    {
      "cell_type": "markdown",
      "source": [
        "Ques13. Why is memory management important in Python?\n",
        "\n",
        "Ans. Memory management important in Python because It avoids memory leaks and optimizes performance."
      ],
      "metadata": {
        "id": "RyX3Kpm0QG72"
      }
    },
    {
      "cell_type": "markdown",
      "source": [
        "Ques14. What is the role of try and except in exception handling?\n",
        "\n",
        "Ans. Role of try and except in exception handling:\n",
        "* try: Wraps code that might throw an error.\n",
        "* except: Handles specific or general errors."
      ],
      "metadata": {
        "id": "11f-SUdqQVYh"
      }
    },
    {
      "cell_type": "markdown",
      "source": [
        "Ques15. How does Python's garbage collection system work?\n",
        "\n",
        "Ans. In Python's garbage collection system Uses reference counting and Also uses generational GC for cyclic references"
      ],
      "metadata": {
        "id": "p-duM_mtQkfD"
      }
    },
    {
      "cell_type": "code",
      "source": [
        "import gc\n",
        "print(gc.get_threshold())  # Garbage collection thresholds\n"
      ],
      "metadata": {
        "colab": {
          "base_uri": "https://localhost:8080/"
        },
        "id": "-NECQOXiQvtw",
        "outputId": "6f8f7af8-b528-4e9b-e974-3a26b94c7db7"
      },
      "execution_count": 11,
      "outputs": [
        {
          "output_type": "stream",
          "name": "stdout",
          "text": [
            "(700, 10, 10)\n"
          ]
        }
      ]
    },
    {
      "cell_type": "markdown",
      "source": [
        "Ques16. What is the purpose of the else block in exception handling?\n",
        "\n",
        "Ans. else block executes if no exception was raised in the try block."
      ],
      "metadata": {
        "id": "QyCbumFMREag"
      }
    },
    {
      "cell_type": "code",
      "source": [
        "try:\n",
        "    x = 10 / 2\n",
        "except ZeroDivisionError:\n",
        "    print(\"Error\")\n",
        "else:\n",
        "    print(\"Success\")\n"
      ],
      "metadata": {
        "colab": {
          "base_uri": "https://localhost:8080/"
        },
        "id": "wYJxznLGRQxu",
        "outputId": "a8c1e670-1c66-4bd3-bd97-edc842a7988b"
      },
      "execution_count": 12,
      "outputs": [
        {
          "output_type": "stream",
          "name": "stdout",
          "text": [
            "Success\n"
          ]
        }
      ]
    },
    {
      "cell_type": "markdown",
      "source": [
        "Ques17. What are the common logging levels in Python?\n",
        "\n",
        "Ans. common logging levels in Python are:\n",
        "\n",
        "* DEBUG\n",
        "* INFO\n",
        "* WARNING\n",
        "* ERROR\n",
        "* CRITICAL"
      ],
      "metadata": {
        "id": "0zeNI2McRTbm"
      }
    },
    {
      "cell_type": "markdown",
      "source": [
        "Ques18. What is the difference between os.fork() and multiprocessing in Python?\n",
        "\n",
        "Ans. Difference between os.fork() and multiprocessing in Python:\n",
        "\n",
        "1. os.fork(): Unix-specific, creates a new process.\n",
        "2. multiprocessing: Cross-platform module for process creation."
      ],
      "metadata": {
        "id": "KqavBMf8RjH1"
      }
    },
    {
      "cell_type": "markdown",
      "source": [
        "Ques19. What is the importance of closing a file in Python?.\n",
        "\n",
        "Ans. Closing a file in Python is important because:\n",
        "\n",
        "* Releases system resources.\n",
        "* Ensures all data is written.\n",
        "\n",
        "with handles this automatically."
      ],
      "metadata": {
        "id": "Upw9wQbgRv1p"
      }
    },
    {
      "cell_type": "markdown",
      "source": [
        "Ques20. What is the difference between file.read() and file.readline() in Python?\n",
        "\n",
        "Ans. Difference between file.read() and file.readline():\n",
        "1. read(): Reads the whole file.\n",
        "2. readline(): Reads one line at a time."
      ],
      "metadata": {
        "id": "epzw0PnpSVvP"
      }
    },
    {
      "cell_type": "markdown",
      "source": [
        "Ques21. What is the logging module in Python used for?.\n",
        "\n",
        "Ans. logging module in Python is Used to track events, errors, and execution flow in applications."
      ],
      "metadata": {
        "id": "u3Gr160UTOka"
      }
    },
    {
      "cell_type": "markdown",
      "source": [
        "Ques22. What is the os module in Python used for in file handling?\n",
        "\n",
        "Ans. os module in Python used for in file handling:\n",
        "1. File and directory manipulation\n",
        "2. Path management\n",
        "\n"
      ],
      "metadata": {
        "id": "zUMiDz9ETaHA"
      }
    },
    {
      "cell_type": "code",
      "source": [
        "import os\n",
        "print(os.getcwd())\n",
        "print(os.listdir())\n"
      ],
      "metadata": {
        "colab": {
          "base_uri": "https://localhost:8080/"
        },
        "id": "YAr0XOxTTssA",
        "outputId": "1a41a63c-df30-4499-f843-7de7ae9ed0f3"
      },
      "execution_count": 13,
      "outputs": [
        {
          "output_type": "stream",
          "name": "stdout",
          "text": [
            "/content\n",
            "['.config', 'sample_data']\n"
          ]
        }
      ]
    },
    {
      "cell_type": "markdown",
      "source": [
        "Ques23. What are the challenges associated with memory management in Python?\n",
        "\n",
        "Ans. Challenges associated with memory management in Python are:\n",
        "* Cyclic references.\n",
        "* High memory use in long-lived processes.\n",
        "* GC pause time."
      ],
      "metadata": {
        "id": "AQoVvHZCTv-0"
      }
    },
    {
      "cell_type": "markdown",
      "source": [
        "Ques24. How do you raise an exception manually in Python?\n",
        "\n",
        "Ans. Use \"raise\" keyword to raise an exception manually in Python."
      ],
      "metadata": {
        "id": "nH3pP1EmUBIS"
      }
    },
    {
      "cell_type": "markdown",
      "source": [
        "Ques25. Why is it important to use multithreading in certain applications?\n",
        "\n",
        "Ans. Important to use multithreading in certain applications:\n",
        "\n",
        "* Useful for I/O-bound tasks.\n",
        "* Improves responsiveness.\n",
        "* Runs concurrent operations in one process."
      ],
      "metadata": {
        "id": "UQNYb8LkUYkm"
      }
    },
    {
      "cell_type": "markdown",
      "source": [
        "# **Practical Questions**"
      ],
      "metadata": {
        "id": "FuULkqk8Unp2"
      }
    },
    {
      "cell_type": "markdown",
      "source": [
        "Ques1. How can you open a file for writing in Python and write a string to it?\n"
      ],
      "metadata": {
        "id": "dU45Ci7bVJ1C"
      }
    },
    {
      "cell_type": "code",
      "source": [
        "with open(\"output.txt\", \"w\") as file:\n",
        "    file.write(\"Hello, world!\")\n"
      ],
      "metadata": {
        "id": "NJwQqp4BVQ6i"
      },
      "execution_count": 15,
      "outputs": []
    },
    {
      "cell_type": "markdown",
      "source": [
        "Ques2. Write a Python program to read the contents of a file and print each line.\n"
      ],
      "metadata": {
        "id": "UEzj-MiSVY_H"
      }
    },
    {
      "cell_type": "code",
      "source": [
        "with open(\"output.txt\", \"r\") as file:\n",
        "    for line in file:\n",
        "        print(line.strip())\n"
      ],
      "metadata": {
        "colab": {
          "base_uri": "https://localhost:8080/"
        },
        "id": "5O7JB6ssVhRR",
        "outputId": "243195dd-fd89-48c1-9cf3-a43099a4ee28"
      },
      "execution_count": 17,
      "outputs": [
        {
          "output_type": "stream",
          "name": "stdout",
          "text": [
            "Hello, world!\n"
          ]
        }
      ]
    },
    {
      "cell_type": "markdown",
      "source": [
        "Ques3. How would you handle a case where the file doesn't exist while trying to open it for reading?"
      ],
      "metadata": {
        "id": "HRo-EOSWVpmB"
      }
    },
    {
      "cell_type": "code",
      "source": [
        "try:\n",
        "    with open(\"nonexistent.txt\", \"r\") as file:\n",
        "        content = file.read()\n",
        "except FileNotFoundError:\n",
        "    print(\"The file does not exist.\")\n"
      ],
      "metadata": {
        "colab": {
          "base_uri": "https://localhost:8080/"
        },
        "id": "kDWvrOneVyI3",
        "outputId": "9c4d7628-7bbe-43b7-d329-4b65b753688c"
      },
      "execution_count": 18,
      "outputs": [
        {
          "output_type": "stream",
          "name": "stdout",
          "text": [
            "The file does not exist.\n"
          ]
        }
      ]
    },
    {
      "cell_type": "markdown",
      "source": [
        "Ques4. Write a Python script that reads from one file and writes its content to another file"
      ],
      "metadata": {
        "id": "T0xvZv5LV1iz"
      }
    },
    {
      "cell_type": "code",
      "source": [
        "with open(\"output.txt\", \"r\") as src, open(\"destination.txt\", \"w\") as dest:\n",
        "    for line in src:\n",
        "        dest.write(line)\n",
        "\n",
        "with open(\"destination.txt\", \"r\") as file:\n",
        "    for line in file:\n",
        "        print(line.strip())"
      ],
      "metadata": {
        "colab": {
          "base_uri": "https://localhost:8080/"
        },
        "id": "7XT9uASlV8oa",
        "outputId": "ba545e77-e488-4a79-8351-401569b0fc5c"
      },
      "execution_count": 21,
      "outputs": [
        {
          "output_type": "stream",
          "name": "stdout",
          "text": [
            "Hello, world!\n"
          ]
        }
      ]
    },
    {
      "cell_type": "markdown",
      "source": [
        "Ques5. How would you catch and handle division by zero error in Python?\n"
      ],
      "metadata": {
        "id": "OyW94CFbWP5g"
      }
    },
    {
      "cell_type": "code",
      "source": [
        "try:\n",
        "    result = 10 / 0\n",
        "except ZeroDivisionError:\n",
        "    print(\"Division by zero is not allowed.\")\n"
      ],
      "metadata": {
        "colab": {
          "base_uri": "https://localhost:8080/"
        },
        "id": "P2_gOfd4WVXI",
        "outputId": "21b1126b-d548-4217-938f-38bb89c06bb1"
      },
      "execution_count": 22,
      "outputs": [
        {
          "output_type": "stream",
          "name": "stdout",
          "text": [
            "Division by zero is not allowed.\n"
          ]
        }
      ]
    },
    {
      "cell_type": "markdown",
      "source": [
        "Ques6. Write a Python program that logs an error message to a log file when a division by zero exception occurs"
      ],
      "metadata": {
        "id": "Lui2hv2fWkkf"
      }
    },
    {
      "cell_type": "code",
      "source": [
        "import logging\n",
        "\n",
        "logging.basicConfig(filename=\"app.log\", level=logging.ERROR)\n",
        "\n",
        "try:\n",
        "    result = 5 / 0\n",
        "except ZeroDivisionError as e:\n",
        "    logging.error(f\"Error occurred: {e}\")\n"
      ],
      "metadata": {
        "colab": {
          "base_uri": "https://localhost:8080/"
        },
        "id": "EL6LmRA2WnZt",
        "outputId": "f59eb954-b926-4b35-b894-055b0d88bc81"
      },
      "execution_count": 23,
      "outputs": [
        {
          "output_type": "stream",
          "name": "stderr",
          "text": [
            "ERROR:root:Error occurred: division by zero\n"
          ]
        }
      ]
    },
    {
      "cell_type": "markdown",
      "source": [
        "Ques7. How do you log information at different levels (INFO, ERROR, WARNING) in Python using the logging module?"
      ],
      "metadata": {
        "id": "fOvIdB41W6-_"
      }
    },
    {
      "cell_type": "code",
      "source": [
        "import logging\n",
        "\n",
        "logging.basicConfig(level=logging.DEBUG)\n",
        "\n",
        "logging.info(\"This is an info message.\")\n",
        "logging.warning(\"This is a warning.\")\n",
        "logging.error(\"This is an error.\")\n"
      ],
      "metadata": {
        "colab": {
          "base_uri": "https://localhost:8080/"
        },
        "id": "ub8MbNp7XCDl",
        "outputId": "b22461d2-c47f-44da-c941-c4c3f523b1fe"
      },
      "execution_count": 24,
      "outputs": [
        {
          "output_type": "stream",
          "name": "stderr",
          "text": [
            "WARNING:root:This is a warning.\n",
            "ERROR:root:This is an error.\n"
          ]
        }
      ]
    },
    {
      "cell_type": "markdown",
      "source": [
        "Ques8. Write a program to handle a file opening error using exception handling"
      ],
      "metadata": {
        "id": "CtfKMxh7XRHP"
      }
    },
    {
      "cell_type": "code",
      "source": [
        "try:\n",
        "    with open(\"data.txt\", \"r\") as file:\n",
        "        print(file.read())\n",
        "except IOError:\n",
        "    print(\"An error occurred while opening the file.\")\n"
      ],
      "metadata": {
        "colab": {
          "base_uri": "https://localhost:8080/"
        },
        "id": "6wZ3ysbQXWUF",
        "outputId": "1bf26f95-2381-4850-f1ec-b132d81feddc"
      },
      "execution_count": 25,
      "outputs": [
        {
          "output_type": "stream",
          "name": "stdout",
          "text": [
            "An error occurred while opening the file.\n"
          ]
        }
      ]
    },
    {
      "cell_type": "markdown",
      "source": [
        "Ques9. How can you read a file line by line and store its content in a list in Python?"
      ],
      "metadata": {
        "id": "EjTopyB8XYvu"
      }
    },
    {
      "cell_type": "code",
      "source": [
        "with open(\"output.txt\", \"r\") as file:\n",
        "    lines = [line.strip() for line in file]\n",
        "print(lines)\n"
      ],
      "metadata": {
        "colab": {
          "base_uri": "https://localhost:8080/"
        },
        "id": "A-oVyKAIXdq1",
        "outputId": "89ebfc4c-b236-4d44-b831-4575bc6efbbf"
      },
      "execution_count": 27,
      "outputs": [
        {
          "output_type": "stream",
          "name": "stdout",
          "text": [
            "['Hello, world!']\n"
          ]
        }
      ]
    },
    {
      "cell_type": "markdown",
      "source": [
        "Ques10. How can you append data to an existing file in Python?"
      ],
      "metadata": {
        "id": "D3zRfY0uXpjB"
      }
    },
    {
      "cell_type": "code",
      "source": [
        "with open(\"output.txt\", \"a\") as file:\n",
        "    file.write(\"Appending new line.\\n\")\n",
        "\n",
        "with open(\"output.txt\", \"r\") as file:\n",
        "    for line in file:\n",
        "        print(line.strip())\n"
      ],
      "metadata": {
        "colab": {
          "base_uri": "https://localhost:8080/"
        },
        "id": "cgM8sUyRXv3q",
        "outputId": "b80c034f-cefc-41ec-a83d-9d47552f0dc2"
      },
      "execution_count": 32,
      "outputs": [
        {
          "output_type": "stream",
          "name": "stdout",
          "text": [
            "Hello, world!Appending new line.\n",
            "Appending new line.\n",
            "Appending new line.\n",
            "Appending new line.\n",
            "Appending new line.\n"
          ]
        }
      ]
    },
    {
      "cell_type": "markdown",
      "source": [
        "Ques11. Write a Python program that uses a try-except block to handle an error when attempting to access a dictionary key that doesn't exist\n"
      ],
      "metadata": {
        "id": "y3QQwB4WYfPx"
      }
    },
    {
      "cell_type": "code",
      "source": [
        "data = {\"name\": \"Navneet\"}\n",
        "try:\n",
        "    print(data[\"age\"])\n",
        "except KeyError:\n",
        "    print(\"Key 'age' does not exist.\")\n"
      ],
      "metadata": {
        "colab": {
          "base_uri": "https://localhost:8080/"
        },
        "id": "k6V4S-03Ygnc",
        "outputId": "590d3877-4e89-47aa-b006-1eb5c3651f5a"
      },
      "execution_count": 33,
      "outputs": [
        {
          "output_type": "stream",
          "name": "stdout",
          "text": [
            "Key 'age' does not exist.\n"
          ]
        }
      ]
    },
    {
      "cell_type": "markdown",
      "source": [
        "Ques12. Write a program that demonstrates using multiple except blocks to handle different types of exceptions."
      ],
      "metadata": {
        "id": "AMTbyYywYpCa"
      }
    },
    {
      "cell_type": "code",
      "source": [
        "try:\n",
        "    x = int(\"abc\")\n",
        "    y = 10 / 0\n",
        "except ValueError:\n",
        "    print(\"Invalid value conversion.\")\n",
        "except ZeroDivisionError:\n",
        "    print(\"Cannot divide by zero.\")\n"
      ],
      "metadata": {
        "colab": {
          "base_uri": "https://localhost:8080/"
        },
        "id": "liCk7kucYuLZ",
        "outputId": "191afc7d-c8cd-4ff0-8a67-77095ade7e4e"
      },
      "execution_count": 34,
      "outputs": [
        {
          "output_type": "stream",
          "name": "stdout",
          "text": [
            "Invalid value conversion.\n"
          ]
        }
      ]
    },
    {
      "cell_type": "markdown",
      "source": [
        "Ques13. How would you check if a file exists before attempting to read it in Python?\n"
      ],
      "metadata": {
        "id": "D7Zs0aWOY3Y5"
      }
    },
    {
      "cell_type": "code",
      "source": [
        "import os\n",
        "\n",
        "if os.path.exists(\"example.txt\"):\n",
        "    with open(\"example.txt\", \"r\") as file:\n",
        "        print(file.read())\n",
        "else:\n",
        "    print(\"File does not exist.\")\n"
      ],
      "metadata": {
        "colab": {
          "base_uri": "https://localhost:8080/"
        },
        "id": "2wlLO_syY9O7",
        "outputId": "ca26a1a7-867f-4fcc-89a5-6cdafaa48fda"
      },
      "execution_count": 35,
      "outputs": [
        {
          "output_type": "stream",
          "name": "stdout",
          "text": [
            "File does not exist.\n"
          ]
        }
      ]
    },
    {
      "cell_type": "markdown",
      "source": [
        "Ques14. Write a program that uses the logging module to log both informational and error messages."
      ],
      "metadata": {
        "id": "PH4ro6DjZCwG"
      }
    },
    {
      "cell_type": "code",
      "source": [
        "import logging\n",
        "\n",
        "logging.basicConfig(filename=\"logfile.log\", level=logging.INFO)\n",
        "logging.info(\"Program started.\")\n",
        "\n",
        "try:\n",
        "    result = 10 / 0\n",
        "except ZeroDivisionError:\n",
        "    logging.error(\"Attempted division by zero.\")\n"
      ],
      "metadata": {
        "colab": {
          "base_uri": "https://localhost:8080/"
        },
        "id": "QGnJczqAZIok",
        "outputId": "fda75512-652a-4257-cd7a-56cdb807462a"
      },
      "execution_count": 36,
      "outputs": [
        {
          "output_type": "stream",
          "name": "stderr",
          "text": [
            "ERROR:root:Attempted division by zero.\n"
          ]
        }
      ]
    },
    {
      "cell_type": "markdown",
      "source": [
        "Ques15. Write a Python program that prints the content of a file and handles the case when the file is empty."
      ],
      "metadata": {
        "id": "MfrNY29zZMiT"
      }
    },
    {
      "cell_type": "code",
      "source": [
        "with open(\"output.txt\", \"r\") as file:\n",
        "    content = file.read()\n",
        "    if content:\n",
        "        print(content)\n",
        "    else:\n",
        "        print(\"File is empty.\")\n"
      ],
      "metadata": {
        "colab": {
          "base_uri": "https://localhost:8080/"
        },
        "id": "nEKomGyrZR0M",
        "outputId": "49b7341f-6ed9-4890-cc85-27bc46588ee6"
      },
      "execution_count": 38,
      "outputs": [
        {
          "output_type": "stream",
          "name": "stdout",
          "text": [
            "Hello, world!Appending new line.\n",
            "Appending new line.\n",
            "Appending new line.\n",
            "Appending new line.\n",
            "Appending new line.\n",
            "\n"
          ]
        }
      ]
    },
    {
      "cell_type": "markdown",
      "source": [
        "Ques16. Demonstrate how to use memory profiling to check the memory usage of a small program."
      ],
      "metadata": {
        "id": "Q5ImykQ8Zdvg"
      }
    },
    {
      "cell_type": "code",
      "source": [
        "!pip install memory-profiler"
      ],
      "metadata": {
        "colab": {
          "base_uri": "https://localhost:8080/"
        },
        "id": "r8rUxO1cZicY",
        "outputId": "0efd6ee0-e596-4c2e-9b4f-2d7668ffdb58"
      },
      "execution_count": 42,
      "outputs": [
        {
          "output_type": "stream",
          "name": "stdout",
          "text": [
            "Collecting memory-profiler\n",
            "  Downloading memory_profiler-0.61.0-py3-none-any.whl.metadata (20 kB)\n",
            "Requirement already satisfied: psutil in /usr/local/lib/python3.11/dist-packages (from memory-profiler) (5.9.5)\n",
            "Downloading memory_profiler-0.61.0-py3-none-any.whl (31 kB)\n",
            "Installing collected packages: memory-profiler\n",
            "Successfully installed memory-profiler-0.61.0\n"
          ]
        }
      ]
    },
    {
      "cell_type": "code",
      "source": [
        "from memory_profiler import profile\n",
        "\n",
        "@profile\n",
        "def create_list():\n",
        "    return [i for i in range(10)]\n",
        "\n",
        "create_list()\n"
      ],
      "metadata": {
        "colab": {
          "base_uri": "https://localhost:8080/"
        },
        "id": "HukvtRGgZ6MD",
        "outputId": "022bfebe-7a99-48c5-9e61-46e5f8b761dc"
      },
      "execution_count": 47,
      "outputs": [
        {
          "output_type": "stream",
          "name": "stdout",
          "text": [
            "ERROR: Could not find file <ipython-input-47-a41a671fd327>\n",
            "NOTE: %mprun can only be used on functions defined in physical files, and not in the IPython environment.\n"
          ]
        },
        {
          "output_type": "execute_result",
          "data": {
            "text/plain": [
              "[0, 1, 2, 3, 4, 5, 6, 7, 8, 9]"
            ]
          },
          "metadata": {},
          "execution_count": 47
        }
      ]
    },
    {
      "cell_type": "markdown",
      "source": [
        "Ques17. Write a Python program to create and write a list of numbers to a file, one number per line."
      ],
      "metadata": {
        "id": "0zfRNP31aXEw"
      }
    },
    {
      "cell_type": "code",
      "source": [
        "numbers = [1, 2, 3, 4, 5]\n",
        "with open(\"numbers.txt\", \"w\") as file:\n",
        "    for number in numbers:\n",
        "        file.write(f\"{number}\\n\")\n",
        "\n",
        "with open(\"numbers.txt\", \"r\") as file:\n",
        "    for line in file:\n",
        "        print(line.strip())"
      ],
      "metadata": {
        "colab": {
          "base_uri": "https://localhost:8080/"
        },
        "id": "_-7zdq0wab_J",
        "outputId": "d68bed8a-bd76-43ee-bdcd-636662abe213"
      },
      "execution_count": 52,
      "outputs": [
        {
          "output_type": "stream",
          "name": "stdout",
          "text": [
            "1\n",
            "2\n",
            "3\n",
            "4\n",
            "5\n"
          ]
        }
      ]
    },
    {
      "cell_type": "markdown",
      "source": [
        "Ques18. How would you implement a basic logging setup that logs to a file with rotation after 1MB?."
      ],
      "metadata": {
        "id": "b5nJulU2a8In"
      }
    },
    {
      "cell_type": "code",
      "source": [
        "import logging\n",
        "from logging.handlers import RotatingFileHandler\n",
        "\n",
        "handler = RotatingFileHandler(\"rotating.log\", maxBytes=1024*1024, backupCount=3)\n",
        "logging.basicConfig(handlers=[handler], level=logging.INFO)\n",
        "\n",
        "logging.info(\"This is a test log message.\")\n"
      ],
      "metadata": {
        "id": "IqR0jeXpbBDa"
      },
      "execution_count": 53,
      "outputs": []
    },
    {
      "cell_type": "markdown",
      "source": [
        "Ques19. Write a program that handles both IndexError and KeyError using a try-except block."
      ],
      "metadata": {
        "id": "JB9f8t6-bGSo"
      }
    },
    {
      "cell_type": "code",
      "source": [
        "my_list = [1, 2, 3]\n",
        "my_dict = {\"a\": 1}\n",
        "\n",
        "try:\n",
        "    print(my_list[5])\n",
        "    print(my_dict[\"b\"])\n",
        "except IndexError:\n",
        "    print(\"Index out of range.\")\n",
        "except KeyError:\n",
        "    print(\"Key not found.\")\n"
      ],
      "metadata": {
        "colab": {
          "base_uri": "https://localhost:8080/"
        },
        "id": "2FR_OzorbKyY",
        "outputId": "613c5ed5-1328-4574-dcd1-860bb8f41804"
      },
      "execution_count": 54,
      "outputs": [
        {
          "output_type": "stream",
          "name": "stdout",
          "text": [
            "Index out of range.\n"
          ]
        }
      ]
    },
    {
      "cell_type": "markdown",
      "source": [
        "Ques20. How would you open a file and read its contents using a context manager in Python?."
      ],
      "metadata": {
        "id": "k1CAln4qbOpY"
      }
    },
    {
      "cell_type": "code",
      "source": [
        "with open(\"output.txt\", \"r\") as file:\n",
        "    print(file.read())\n"
      ],
      "metadata": {
        "colab": {
          "base_uri": "https://localhost:8080/"
        },
        "id": "Mj8knmnNbTlZ",
        "outputId": "2251d2ed-d12b-416c-8935-e1be8db03772"
      },
      "execution_count": 56,
      "outputs": [
        {
          "output_type": "stream",
          "name": "stdout",
          "text": [
            "Hello, world!Appending new line.\n",
            "Appending new line.\n",
            "Appending new line.\n",
            "Appending new line.\n",
            "Appending new line.\n",
            "\n"
          ]
        }
      ]
    },
    {
      "cell_type": "markdown",
      "source": [
        "Ques21. Write a Python program that reads a file and prints the number of occurrences of a specific word."
      ],
      "metadata": {
        "id": "5DdkB31hbbIh"
      }
    },
    {
      "cell_type": "code",
      "source": [
        "word_to_count = \"Appending\"\n",
        "count = 0\n",
        "\n",
        "with open(\"output.txt\", \"r\") as file:\n",
        "    for line in file:\n",
        "        count += line.lower().split().count(word_to_count.lower())\n",
        "\n",
        "print(f\"The word '{word_to_count}' occurred {count} times.\")\n"
      ],
      "metadata": {
        "colab": {
          "base_uri": "https://localhost:8080/"
        },
        "id": "HH7mio-LbfHP",
        "outputId": "35b1860d-2d0f-43a4-8e1b-e8537467d055"
      },
      "execution_count": 59,
      "outputs": [
        {
          "output_type": "stream",
          "name": "stdout",
          "text": [
            "The word 'Appending' occurred 4 times.\n"
          ]
        }
      ]
    },
    {
      "cell_type": "markdown",
      "source": [
        "Ques22. How can you check if a file is empty before attempting to read its contents?\n"
      ],
      "metadata": {
        "id": "s7ZTXIKpbv11"
      }
    },
    {
      "cell_type": "code",
      "source": [
        "import os\n",
        "\n",
        "if os.path.getsize(\"output.txt\") == 0:\n",
        "    print(\"The file is empty.\")\n",
        "else:\n",
        "    with open(\"output.txt\", \"r\") as file:\n",
        "        print(file.read())\n"
      ],
      "metadata": {
        "colab": {
          "base_uri": "https://localhost:8080/"
        },
        "id": "B3OmgSuHbz7Y",
        "outputId": "f420df7e-205a-4990-b9b1-ef942ed11ccc"
      },
      "execution_count": 62,
      "outputs": [
        {
          "output_type": "stream",
          "name": "stdout",
          "text": [
            "Hello, world!Appending new line.\n",
            "Appending new line.\n",
            "Appending new line.\n",
            "Appending new line.\n",
            "Appending new line.\n",
            "\n"
          ]
        }
      ]
    },
    {
      "cell_type": "markdown",
      "source": [
        "Ques23. Write a Python program that writes to a log file when an error occurs during file handling."
      ],
      "metadata": {
        "id": "jZxRkYCEcAlV"
      }
    },
    {
      "cell_type": "code",
      "source": [
        "import logging\n",
        "\n",
        "logging.basicConfig(filename=\"file_errors.log\", level=logging.ERROR)\n",
        "\n",
        "try:\n",
        "    with open(\"nonexistent.txt\", \"r\") as file:\n",
        "        data = file.read()\n",
        "except Exception as e:\n",
        "    logging.error(f\"File error: {e}\")\n"
      ],
      "metadata": {
        "colab": {
          "base_uri": "https://localhost:8080/"
        },
        "id": "QFKaDWaKcH_r",
        "outputId": "a7e289b0-703c-448e-e1a0-d7c940f4e8f2"
      },
      "execution_count": 63,
      "outputs": [
        {
          "output_type": "stream",
          "name": "stderr",
          "text": [
            "ERROR:root:File error: [Errno 2] No such file or directory: 'nonexistent.txt'\n"
          ]
        }
      ]
    }
  ]
}